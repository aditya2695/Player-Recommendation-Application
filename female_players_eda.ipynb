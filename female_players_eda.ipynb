{
 "cells": [
  {
   "cell_type": "markdown",
   "metadata": {},
   "source": [
    "<h1>Capstone Project"
   ]
  },
  {
   "cell_type": "markdown",
   "metadata": {},
   "source": [
    "<img src=\"https://images.pexels.com/photos/3448250/pexels-photo-3448250.jpeg?auto=compress&cs=tinysrgb&w=1260&h=750&dpr=2\" height=\"350\">"
   ]
  },
  {
   "cell_type": "markdown",
   "metadata": {},
   "source": [
    "### Import Libraries"
   ]
  },
  {
   "cell_type": "code",
   "execution_count": 136,
   "metadata": {},
   "outputs": [],
   "source": [
    "import numpy as np\n",
    "import seaborn as sns\n",
    "import matplotlib.pyplot as plt\n",
    "import pandas as pd\n",
    "from sklearn.preprocessing import LabelEncoder\n",
    "from tqdm import tqdm\n",
    "import time\n",
    "\n",
    "from sklearn import metrics\n",
    "from sklearn.cluster import KMeans, AgglomerativeClustering, DBSCAN\n",
    "from sklearn.preprocessing import MinMaxScaler, StandardScaler\n",
    "from sklearn.decomposition import PCA\n",
    "\n",
    "from sklearn.preprocessing import StandardScaler\n",
    "\n",
    "import plotly.figure_factory as ff\n",
    "import plotly.graph_objects as go\n",
    "import plotly.express as px\n"
   ]
  },
  {
   "cell_type": "markdown",
   "metadata": {},
   "source": [
    "### Load Data\n"
   ]
  },
  {
   "cell_type": "code",
   "execution_count": 137,
   "metadata": {},
   "outputs": [
    {
     "data": {
      "text/html": [
       "<div>\n",
       "<style scoped>\n",
       "    .dataframe tbody tr th:only-of-type {\n",
       "        vertical-align: middle;\n",
       "    }\n",
       "\n",
       "    .dataframe tbody tr th {\n",
       "        vertical-align: top;\n",
       "    }\n",
       "\n",
       "    .dataframe thead th {\n",
       "        text-align: right;\n",
       "    }\n",
       "</style>\n",
       "<table border=\"1\" class=\"dataframe\">\n",
       "  <thead>\n",
       "    <tr style=\"text-align: right;\">\n",
       "      <th></th>\n",
       "      <th>sofifa_id</th>\n",
       "      <th>player_url</th>\n",
       "      <th>short_name</th>\n",
       "      <th>long_name</th>\n",
       "      <th>player_positions</th>\n",
       "      <th>overall</th>\n",
       "      <th>potential</th>\n",
       "      <th>value_eur</th>\n",
       "      <th>wage_eur</th>\n",
       "      <th>age</th>\n",
       "      <th>...</th>\n",
       "      <th>lcb</th>\n",
       "      <th>cb</th>\n",
       "      <th>rcb</th>\n",
       "      <th>rb</th>\n",
       "      <th>gk</th>\n",
       "      <th>player_face_url</th>\n",
       "      <th>club_logo_url</th>\n",
       "      <th>club_flag_url</th>\n",
       "      <th>nation_logo_url</th>\n",
       "      <th>nation_flag_url</th>\n",
       "    </tr>\n",
       "  </thead>\n",
       "  <tbody>\n",
       "    <tr>\n",
       "      <th>0</th>\n",
       "      <td>227246</td>\n",
       "      <td>https://sofifa.com/player/227246/lucy-bronze/2...</td>\n",
       "      <td>L. Bronze</td>\n",
       "      <td>Lucia Roberta Tough Bronze</td>\n",
       "      <td>RB, CM</td>\n",
       "      <td>92</td>\n",
       "      <td>92</td>\n",
       "      <td>NaN</td>\n",
       "      <td>NaN</td>\n",
       "      <td>29</td>\n",
       "      <td>...</td>\n",
       "      <td>87+3</td>\n",
       "      <td>87+3</td>\n",
       "      <td>87+3</td>\n",
       "      <td>88+3</td>\n",
       "      <td>21+3</td>\n",
       "      <td>https://cdn.sofifa.com/players/227/246/22_120.png</td>\n",
       "      <td>NaN</td>\n",
       "      <td>NaN</td>\n",
       "      <td>https://cdn.sofifa.com/teams/113002/60.png</td>\n",
       "      <td>https://cdn.sofifa.com/flags/gb-eng.png</td>\n",
       "    </tr>\n",
       "    <tr>\n",
       "      <th>1</th>\n",
       "      <td>227316</td>\n",
       "      <td>https://sofifa.com/player/227316/wendie-renard...</td>\n",
       "      <td>W. Renard</td>\n",
       "      <td>Wéndèleine Thérèse Renard</td>\n",
       "      <td>CB</td>\n",
       "      <td>92</td>\n",
       "      <td>92</td>\n",
       "      <td>NaN</td>\n",
       "      <td>NaN</td>\n",
       "      <td>30</td>\n",
       "      <td>...</td>\n",
       "      <td>90+2</td>\n",
       "      <td>90+2</td>\n",
       "      <td>90+2</td>\n",
       "      <td>80+3</td>\n",
       "      <td>20+3</td>\n",
       "      <td>https://cdn.sofifa.com/players/227/316/22_120.png</td>\n",
       "      <td>NaN</td>\n",
       "      <td>NaN</td>\n",
       "      <td>https://cdn.sofifa.com/teams/113003/60.png</td>\n",
       "      <td>https://cdn.sofifa.com/flags/fr.png</td>\n",
       "    </tr>\n",
       "    <tr>\n",
       "      <th>2</th>\n",
       "      <td>233746</td>\n",
       "      <td>https://sofifa.com/player/233746/vivianne-mied...</td>\n",
       "      <td>V. Miedema</td>\n",
       "      <td>Vivianne Miedema</td>\n",
       "      <td>ST</td>\n",
       "      <td>92</td>\n",
       "      <td>93</td>\n",
       "      <td>NaN</td>\n",
       "      <td>NaN</td>\n",
       "      <td>24</td>\n",
       "      <td>...</td>\n",
       "      <td>52+3</td>\n",
       "      <td>52+3</td>\n",
       "      <td>52+3</td>\n",
       "      <td>57+3</td>\n",
       "      <td>24+3</td>\n",
       "      <td>https://cdn.sofifa.com/players/233/746/22_120.png</td>\n",
       "      <td>NaN</td>\n",
       "      <td>NaN</td>\n",
       "      <td>https://cdn.sofifa.com/teams/113011/60.png</td>\n",
       "      <td>https://cdn.sofifa.com/flags/nl.png</td>\n",
       "    </tr>\n",
       "    <tr>\n",
       "      <th>3</th>\n",
       "      <td>227125</td>\n",
       "      <td>https://sofifa.com/player/227125/samantha-kerr...</td>\n",
       "      <td>S. Kerr</td>\n",
       "      <td>Samantha May Kerr</td>\n",
       "      <td>ST, LW</td>\n",
       "      <td>91</td>\n",
       "      <td>91</td>\n",
       "      <td>NaN</td>\n",
       "      <td>NaN</td>\n",
       "      <td>27</td>\n",
       "      <td>...</td>\n",
       "      <td>56+3</td>\n",
       "      <td>56+3</td>\n",
       "      <td>56+3</td>\n",
       "      <td>60+3</td>\n",
       "      <td>20+3</td>\n",
       "      <td>https://cdn.sofifa.com/players/227/125/22_120.png</td>\n",
       "      <td>NaN</td>\n",
       "      <td>NaN</td>\n",
       "      <td>https://cdn.sofifa.com/teams/112998/60.png</td>\n",
       "      <td>https://cdn.sofifa.com/flags/au.png</td>\n",
       "    </tr>\n",
       "    <tr>\n",
       "      <th>4</th>\n",
       "      <td>226301</td>\n",
       "      <td>https://sofifa.com/player/226301/alex-morgan/2...</td>\n",
       "      <td>A. Morgan</td>\n",
       "      <td>Alexandra Morgan Carrasco</td>\n",
       "      <td>ST</td>\n",
       "      <td>90</td>\n",
       "      <td>90</td>\n",
       "      <td>NaN</td>\n",
       "      <td>NaN</td>\n",
       "      <td>31</td>\n",
       "      <td>...</td>\n",
       "      <td>56+3</td>\n",
       "      <td>56+3</td>\n",
       "      <td>56+3</td>\n",
       "      <td>62+3</td>\n",
       "      <td>19+3</td>\n",
       "      <td>https://cdn.sofifa.com/players/226/301/22_120.png</td>\n",
       "      <td>NaN</td>\n",
       "      <td>NaN</td>\n",
       "      <td>https://cdn.sofifa.com/teams/113009/60.png</td>\n",
       "      <td>https://cdn.sofifa.com/flags/us.png</td>\n",
       "    </tr>\n",
       "  </tbody>\n",
       "</table>\n",
       "<p>5 rows × 110 columns</p>\n",
       "</div>"
      ],
      "text/plain": [
       "   sofifa_id                                         player_url  short_name  \\\n",
       "0     227246  https://sofifa.com/player/227246/lucy-bronze/2...   L. Bronze   \n",
       "1     227316  https://sofifa.com/player/227316/wendie-renard...   W. Renard   \n",
       "2     233746  https://sofifa.com/player/233746/vivianne-mied...  V. Miedema   \n",
       "3     227125  https://sofifa.com/player/227125/samantha-kerr...     S. Kerr   \n",
       "4     226301  https://sofifa.com/player/226301/alex-morgan/2...   A. Morgan   \n",
       "\n",
       "                    long_name player_positions  overall  potential  value_eur  \\\n",
       "0  Lucia Roberta Tough Bronze           RB, CM       92         92        NaN   \n",
       "1   Wéndèleine Thérèse Renard               CB       92         92        NaN   \n",
       "2            Vivianne Miedema               ST       92         93        NaN   \n",
       "3           Samantha May Kerr           ST, LW       91         91        NaN   \n",
       "4   Alexandra Morgan Carrasco               ST       90         90        NaN   \n",
       "\n",
       "   wage_eur  age  ...   lcb    cb   rcb    rb    gk  \\\n",
       "0       NaN   29  ...  87+3  87+3  87+3  88+3  21+3   \n",
       "1       NaN   30  ...  90+2  90+2  90+2  80+3  20+3   \n",
       "2       NaN   24  ...  52+3  52+3  52+3  57+3  24+3   \n",
       "3       NaN   27  ...  56+3  56+3  56+3  60+3  20+3   \n",
       "4       NaN   31  ...  56+3  56+3  56+3  62+3  19+3   \n",
       "\n",
       "                                     player_face_url  club_logo_url  \\\n",
       "0  https://cdn.sofifa.com/players/227/246/22_120.png            NaN   \n",
       "1  https://cdn.sofifa.com/players/227/316/22_120.png            NaN   \n",
       "2  https://cdn.sofifa.com/players/233/746/22_120.png            NaN   \n",
       "3  https://cdn.sofifa.com/players/227/125/22_120.png            NaN   \n",
       "4  https://cdn.sofifa.com/players/226/301/22_120.png            NaN   \n",
       "\n",
       "   club_flag_url                             nation_logo_url  \\\n",
       "0            NaN  https://cdn.sofifa.com/teams/113002/60.png   \n",
       "1            NaN  https://cdn.sofifa.com/teams/113003/60.png   \n",
       "2            NaN  https://cdn.sofifa.com/teams/113011/60.png   \n",
       "3            NaN  https://cdn.sofifa.com/teams/112998/60.png   \n",
       "4            NaN  https://cdn.sofifa.com/teams/113009/60.png   \n",
       "\n",
       "                           nation_flag_url  \n",
       "0  https://cdn.sofifa.com/flags/gb-eng.png  \n",
       "1      https://cdn.sofifa.com/flags/fr.png  \n",
       "2      https://cdn.sofifa.com/flags/nl.png  \n",
       "3      https://cdn.sofifa.com/flags/au.png  \n",
       "4      https://cdn.sofifa.com/flags/us.png  \n",
       "\n",
       "[5 rows x 110 columns]"
      ]
     },
     "execution_count": 137,
     "metadata": {},
     "output_type": "execute_result"
    }
   ],
   "source": [
    "# The reason you get this low_memory warning is because \n",
    "# guessing dtypes for each column is very memory demanding.\n",
    "\n",
    "player_df = pd.read_csv('data/female/female_players_22.csv', low_memory=False)\n",
    "player_df.head()"
   ]
  },
  {
   "cell_type": "markdown",
   "metadata": {},
   "source": [
    "### Shape"
   ]
  },
  {
   "cell_type": "code",
   "execution_count": 138,
   "metadata": {},
   "outputs": [
    {
     "data": {
      "text/plain": [
       "(391, 110)"
      ]
     },
     "execution_count": 138,
     "metadata": {},
     "output_type": "execute_result"
    }
   ],
   "source": [
    "player_df.shape"
   ]
  },
  {
   "cell_type": "code",
   "execution_count": 139,
   "metadata": {},
   "outputs": [
    {
     "data": {
      "text/plain": [
       "124"
      ]
     },
     "execution_count": 139,
     "metadata": {},
     "output_type": "execute_result"
    }
   ],
   "source": [
    "len(player_df['player_positions'].unique())"
   ]
  },
  {
   "cell_type": "code",
   "execution_count": 140,
   "metadata": {},
   "outputs": [
    {
     "data": {
      "text/plain": [
       "27"
      ]
     },
     "execution_count": 140,
     "metadata": {},
     "output_type": "execute_result"
    }
   ],
   "source": [
    "positions = [ 'ls','st','rs','lw','lf','cf','rf','rw','lam','cam','ram','lm','lcm','cm','rcm','rm','lwb','ldm','cdm','rdm','rwb','lb','lcb','cb','rcb','rb','gk']\n",
    "len(positions)"
   ]
  },
  {
   "cell_type": "markdown",
   "metadata": {},
   "source": [
    "<li>Originally 27 player positions have been shortlisted\n",
    "<li>But there are 124 combinations of these positions in the dataset\n",
    "<li> This is because certain players are versatile and can play in multiple positions\n",
    "\n",
    "\n"
   ]
  },
  {
   "cell_type": "code",
   "execution_count": 141,
   "metadata": {},
   "outputs": [],
   "source": [
    "# list(player_df.dtypes)"
   ]
  },
  {
   "cell_type": "markdown",
   "metadata": {},
   "source": [
    "### Check Nulls"
   ]
  },
  {
   "cell_type": "code",
   "execution_count": 142,
   "metadata": {},
   "outputs": [
    {
     "data": {
      "text/plain": [
       "sofifa_id             0\n",
       "player_url            0\n",
       "short_name            0\n",
       "long_name             0\n",
       "player_positions      0\n",
       "                   ... \n",
       "player_face_url       0\n",
       "club_logo_url       391\n",
       "club_flag_url       391\n",
       "nation_logo_url       0\n",
       "nation_flag_url       0\n",
       "Length: 110, dtype: int64"
      ]
     },
     "execution_count": 142,
     "metadata": {},
     "output_type": "execute_result"
    }
   ],
   "source": [
    "player_df.isnull().sum()"
   ]
  },
  {
   "cell_type": "code",
   "execution_count": 143,
   "metadata": {},
   "outputs": [
    {
     "data": {
      "image/png": "[encoded data removed]",
      "text/plain": [
       "<Figure size 432x288 with 1 Axes>"
      ]
     },
     "metadata": {},
     "output_type": "display_data"
    }
   ],
   "source": [
    "sns.heatmap(player_df.isnull(),yticklabels=False,cbar=False)\n",
    "plt.show()"
   ]
  },
  {
   "cell_type": "markdown",
   "metadata": {},
   "source": [
    "### Create a Data frame to show Cols and their null percentage"
   ]
  },
  {
   "cell_type": "code",
   "execution_count": 144,
   "metadata": {},
   "outputs": [
    {
     "data": {
      "text/html": [
       "<div>\n",
       "<style scoped>\n",
       "    .dataframe tbody tr th:only-of-type {\n",
       "        vertical-align: middle;\n",
       "    }\n",
       "\n",
       "    .dataframe tbody tr th {\n",
       "        vertical-align: top;\n",
       "    }\n",
       "\n",
       "    .dataframe thead th {\n",
       "        text-align: right;\n",
       "    }\n",
       "</style>\n",
       "<table border=\"1\" class=\"dataframe\">\n",
       "  <thead>\n",
       "    <tr style=\"text-align: right;\">\n",
       "      <th></th>\n",
       "      <th>col</th>\n",
       "      <th>percentage</th>\n",
       "    </tr>\n",
       "  </thead>\n",
       "  <tbody>\n",
       "    <tr>\n",
       "      <th>21</th>\n",
       "      <td>club_contract_valid_until</td>\n",
       "      <td>100.00</td>\n",
       "    </tr>\n",
       "    <tr>\n",
       "      <th>13</th>\n",
       "      <td>club_team_id</td>\n",
       "      <td>100.00</td>\n",
       "    </tr>\n",
       "    <tr>\n",
       "      <th>20</th>\n",
       "      <td>club_joined</td>\n",
       "      <td>100.00</td>\n",
       "    </tr>\n",
       "    <tr>\n",
       "      <th>107</th>\n",
       "      <td>club_flag_url</td>\n",
       "      <td>100.00</td>\n",
       "    </tr>\n",
       "    <tr>\n",
       "      <th>106</th>\n",
       "      <td>club_logo_url</td>\n",
       "      <td>100.00</td>\n",
       "    </tr>\n",
       "    <tr>\n",
       "      <th>19</th>\n",
       "      <td>club_loaned_from</td>\n",
       "      <td>100.00</td>\n",
       "    </tr>\n",
       "    <tr>\n",
       "      <th>18</th>\n",
       "      <td>club_jersey_number</td>\n",
       "      <td>100.00</td>\n",
       "    </tr>\n",
       "    <tr>\n",
       "      <th>17</th>\n",
       "      <td>club_position</td>\n",
       "      <td>100.00</td>\n",
       "    </tr>\n",
       "    <tr>\n",
       "      <th>16</th>\n",
       "      <td>league_level</td>\n",
       "      <td>100.00</td>\n",
       "    </tr>\n",
       "    <tr>\n",
       "      <th>15</th>\n",
       "      <td>league_name</td>\n",
       "      <td>100.00</td>\n",
       "    </tr>\n",
       "    <tr>\n",
       "      <th>14</th>\n",
       "      <td>club_name</td>\n",
       "      <td>100.00</td>\n",
       "    </tr>\n",
       "    <tr>\n",
       "      <th>34</th>\n",
       "      <td>release_clause_eur</td>\n",
       "      <td>88.24</td>\n",
       "    </tr>\n",
       "    <tr>\n",
       "      <th>8</th>\n",
       "      <td>wage_eur</td>\n",
       "      <td>88.24</td>\n",
       "    </tr>\n",
       "    <tr>\n",
       "      <th>7</th>\n",
       "      <td>value_eur</td>\n",
       "      <td>88.24</td>\n",
       "    </tr>\n",
       "    <tr>\n",
       "      <th>77</th>\n",
       "      <td>goalkeeping_speed</td>\n",
       "      <td>87.72</td>\n",
       "    </tr>\n",
       "    <tr>\n",
       "      <th>35</th>\n",
       "      <td>player_tags</td>\n",
       "      <td>82.35</td>\n",
       "    </tr>\n",
       "    <tr>\n",
       "      <th>36</th>\n",
       "      <td>player_traits</td>\n",
       "      <td>63.43</td>\n",
       "    </tr>\n",
       "    <tr>\n",
       "      <th>37</th>\n",
       "      <td>pace</td>\n",
       "      <td>12.28</td>\n",
       "    </tr>\n",
       "    <tr>\n",
       "      <th>38</th>\n",
       "      <td>shooting</td>\n",
       "      <td>12.28</td>\n",
       "    </tr>\n",
       "    <tr>\n",
       "      <th>39</th>\n",
       "      <td>passing</td>\n",
       "      <td>12.28</td>\n",
       "    </tr>\n",
       "  </tbody>\n",
       "</table>\n",
       "</div>"
      ],
      "text/plain": [
       "                           col  percentage\n",
       "21   club_contract_valid_until      100.00\n",
       "13                club_team_id      100.00\n",
       "20                 club_joined      100.00\n",
       "107              club_flag_url      100.00\n",
       "106              club_logo_url      100.00\n",
       "19            club_loaned_from      100.00\n",
       "18          club_jersey_number      100.00\n",
       "17               club_position      100.00\n",
       "16                league_level      100.00\n",
       "15                 league_name      100.00\n",
       "14                   club_name      100.00\n",
       "34          release_clause_eur       88.24\n",
       "8                     wage_eur       88.24\n",
       "7                    value_eur       88.24\n",
       "77           goalkeeping_speed       87.72\n",
       "35                 player_tags       82.35\n",
       "36               player_traits       63.43\n",
       "37                        pace       12.28\n",
       "38                    shooting       12.28\n",
       "39                     passing       12.28"
      ]
     },
     "execution_count": 144,
     "metadata": {},
     "output_type": "execute_result"
    }
   ],
   "source": [
    "null_dict = (dict(player_df.isna().mean().round(4)*100))\n",
    "null_df = pd.DataFrame.from_dict(null_dict, orient=\"index\").reset_index()\n",
    "null_df.columns = ['col', 'percentage']\n",
    "null_df = null_df.sort_values('percentage',ascending=False)\n",
    "null_df.head(20)"
   ]
  },
  {
   "cell_type": "markdown",
   "metadata": {},
   "source": [
    "### Data Cleaning"
   ]
  },
  {
   "cell_type": "code",
   "execution_count": 145,
   "metadata": {},
   "outputs": [],
   "source": [
    "cols_to_drop = ['nation_jersey_number','nation_logo_url','nation_position','nation_team_id','club_loaned_from','player_tags',\n",
    "                'release_clause_eur','player_traits'\n",
    "                ]\n",
    "\n",
    "player_df.drop(columns=cols_to_drop,inplace=True)"
   ]
  },
  {
   "cell_type": "code",
   "execution_count": 146,
   "metadata": {},
   "outputs": [
    {
     "data": {
      "image/png": "[encoded data removed]",
      "text/plain": [
       "<Figure size 432x288 with 1 Axes>"
      ]
     },
     "metadata": {},
     "output_type": "display_data"
    }
   ],
   "source": [
    "sns.heatmap(player_df.isnull(),yticklabels=False,cbar=False)\n",
    "plt.show()"
   ]
  },
  {
   "cell_type": "markdown",
   "metadata": {},
   "source": [
    "### Heatmap of abilities"
   ]
  },
  {
   "cell_type": "code",
   "execution_count": 147,
   "metadata": {},
   "outputs": [
    {
     "data": {
      "image/png": "[encoded data removed]",
      "text/plain": [
       "<Figure size 432x288 with 1 Axes>"
      ]
     },
     "metadata": {},
     "output_type": "display_data"
    }
   ],
   "source": [
    "abilities =  ['sofifa_id',\n",
    "              'short_name',\n",
    "              'preferred_foot',\n",
    "              'overall',\n",
    "              'player_positions',\n",
    "              'weak_foot',\n",
    "              'skill_moves',\n",
    "              'work_rate',\n",
    "              'body_type',\n",
    "              # 'player_traits',\n",
    "              'pace',\n",
    "              'shooting',\n",
    "              'passing',\n",
    "              'dribbling',\n",
    "              'defending',\n",
    "              'physic',\n",
    "              'attacking_crossing',\n",
    "              'attacking_finishing',\n",
    "              'attacking_heading_accuracy',\n",
    "              'attacking_short_passing',\n",
    "              'attacking_volleys',\n",
    "              'skill_dribbling',\n",
    "              'skill_curve',\n",
    "              'skill_fk_accuracy',\n",
    "              'skill_long_passing',\n",
    "              'skill_ball_control',\n",
    "              'movement_acceleration',\n",
    "              'movement_sprint_speed',\n",
    "              'movement_agility',\n",
    "              'movement_reactions',\n",
    "              'movement_balance',\n",
    "              'power_shot_power',\n",
    "              'power_jumping',\n",
    "              'power_stamina',\n",
    "              'power_strength',\n",
    "              'power_long_shots',\n",
    "              'mentality_aggression',\n",
    "              'mentality_interceptions',\n",
    "              'mentality_positioning',\n",
    "              'mentality_vision',\n",
    "              'mentality_penalties',\n",
    "              'mentality_composure',\n",
    "              'defending_marking_awareness',\n",
    "              'defending_standing_tackle',\n",
    "              'defending_sliding_tackle',\n",
    "              'goalkeeping_diving',\n",
    "              'goalkeeping_handling',\n",
    "              'goalkeeping_kicking',\n",
    "              'goalkeeping_positioning',\n",
    "              'goalkeeping_reflexes',\n",
    "              'goalkeeping_speed']\n",
    "\n",
    "abilities_df = player_df[abilities]\n",
    "\n",
    "sns.heatmap(abilities_df.isnull(),yticklabels=False,cbar=False)\n",
    "plt.show()"
   ]
  },
  {
   "cell_type": "markdown",
   "metadata": {},
   "source": [
    "Sorted dataframe based on percentge of null values"
   ]
  },
  {
   "cell_type": "code",
   "execution_count": 148,
   "metadata": {},
   "outputs": [
    {
     "data": {
      "text/html": [
       "<div>\n",
       "<style scoped>\n",
       "    .dataframe tbody tr th:only-of-type {\n",
       "        vertical-align: middle;\n",
       "    }\n",
       "\n",
       "    .dataframe tbody tr th {\n",
       "        vertical-align: top;\n",
       "    }\n",
       "\n",
       "    .dataframe thead th {\n",
       "        text-align: right;\n",
       "    }\n",
       "</style>\n",
       "<table border=\"1\" class=\"dataframe\">\n",
       "  <thead>\n",
       "    <tr style=\"text-align: right;\">\n",
       "      <th></th>\n",
       "      <th>col</th>\n",
       "      <th>percentage</th>\n",
       "    </tr>\n",
       "  </thead>\n",
       "  <tbody>\n",
       "    <tr>\n",
       "      <th>49</th>\n",
       "      <td>goalkeeping_speed</td>\n",
       "      <td>87.72</td>\n",
       "    </tr>\n",
       "    <tr>\n",
       "      <th>9</th>\n",
       "      <td>pace</td>\n",
       "      <td>12.28</td>\n",
       "    </tr>\n",
       "    <tr>\n",
       "      <th>13</th>\n",
       "      <td>defending</td>\n",
       "      <td>12.28</td>\n",
       "    </tr>\n",
       "    <tr>\n",
       "      <th>12</th>\n",
       "      <td>dribbling</td>\n",
       "      <td>12.28</td>\n",
       "    </tr>\n",
       "    <tr>\n",
       "      <th>11</th>\n",
       "      <td>passing</td>\n",
       "      <td>12.28</td>\n",
       "    </tr>\n",
       "    <tr>\n",
       "      <th>10</th>\n",
       "      <td>shooting</td>\n",
       "      <td>12.28</td>\n",
       "    </tr>\n",
       "    <tr>\n",
       "      <th>14</th>\n",
       "      <td>physic</td>\n",
       "      <td>12.28</td>\n",
       "    </tr>\n",
       "    <tr>\n",
       "      <th>43</th>\n",
       "      <td>defending_sliding_tackle</td>\n",
       "      <td>0.00</td>\n",
       "    </tr>\n",
       "    <tr>\n",
       "      <th>38</th>\n",
       "      <td>mentality_vision</td>\n",
       "      <td>0.00</td>\n",
       "    </tr>\n",
       "    <tr>\n",
       "      <th>30</th>\n",
       "      <td>power_shot_power</td>\n",
       "      <td>0.00</td>\n",
       "    </tr>\n",
       "  </tbody>\n",
       "</table>\n",
       "</div>"
      ],
      "text/plain": [
       "                         col  percentage\n",
       "49         goalkeeping_speed       87.72\n",
       "9                       pace       12.28\n",
       "13                 defending       12.28\n",
       "12                 dribbling       12.28\n",
       "11                   passing       12.28\n",
       "10                  shooting       12.28\n",
       "14                    physic       12.28\n",
       "43  defending_sliding_tackle        0.00\n",
       "38          mentality_vision        0.00\n",
       "30          power_shot_power        0.00"
      ]
     },
     "execution_count": 148,
     "metadata": {},
     "output_type": "execute_result"
    }
   ],
   "source": [
    "skills_null_dict = (dict(abilities_df.isna().mean().round(4) * 100))\n",
    "skills_null_df = pd.DataFrame.from_dict(skills_null_dict, orient=\"index\").reset_index()\n",
    "skills_null_df.columns = ['col', 'percentage']\n",
    "skills_null_df = skills_null_df.sort_values('percentage',ascending=False)\n",
    "skills_null_df.head(10)"
   ]
  },
  {
   "cell_type": "code",
   "execution_count": 149,
   "metadata": {},
   "outputs": [],
   "source": [
    "# len(player_df['player_traits'].unique())"
   ]
  },
  {
   "cell_type": "code",
   "execution_count": 150,
   "metadata": {},
   "outputs": [
    {
     "data": {
      "image/png": "[encoded data removed]",
      "text/plain": [
       "<Figure size 432x288 with 1 Axes>"
      ]
     },
     "metadata": {},
     "output_type": "display_data"
    }
   ],
   "source": [
    "player_pos_df = player_df[positions]\n",
    "\n",
    "sns.heatmap(player_pos_df.isnull(),yticklabels=False,cbar=False)\n",
    "plt.show()\n"
   ]
  },
  {
   "cell_type": "code",
   "execution_count": 151,
   "metadata": {},
   "outputs": [],
   "source": [
    "def clean_data(df):\n",
    "\n",
    "\n",
    "    null_cols = ['pace','shooting','passing','dribbling','defending','physic']\n",
    "\n",
    "    # iterate through each null column\n",
    "    for col in null_cols:\n",
    "\n",
    "        df[col].fillna(0,inplace=True)\n",
    "\n",
    "    return df\n",
    "\n",
    "    "
   ]
  },
  {
   "cell_type": "code",
   "execution_count": 152,
   "metadata": {},
   "outputs": [
    {
     "data": {
      "image/png": "[encoded data removed]",
      "text/plain": [
       "<Figure size 432x288 with 1 Axes>"
      ]
     },
     "metadata": {},
     "output_type": "display_data"
    }
   ],
   "source": [
    "abilities_df_cleaned =  clean_data(abilities_df.copy())\n",
    "# save dataframe to directory\n",
    "abilities_df_cleaned.to_csv('data/female_player_abilities.csv')\n",
    "sns.heatmap(abilities_df_cleaned.isnull(),yticklabels=False,cbar=False)\n",
    "\n",
    "plt.show()"
   ]
  },
  {
   "cell_type": "code",
   "execution_count": 153,
   "metadata": {},
   "outputs": [
    {
     "data": {
      "text/html": [
       "<div>\n",
       "<style scoped>\n",
       "    .dataframe tbody tr th:only-of-type {\n",
       "        vertical-align: middle;\n",
       "    }\n",
       "\n",
       "    .dataframe tbody tr th {\n",
       "        vertical-align: top;\n",
       "    }\n",
       "\n",
       "    .dataframe thead th {\n",
       "        text-align: right;\n",
       "    }\n",
       "</style>\n",
       "<table border=\"1\" class=\"dataframe\">\n",
       "  <thead>\n",
       "    <tr style=\"text-align: right;\">\n",
       "      <th></th>\n",
       "      <th>sofifa_id</th>\n",
       "      <th>short_name</th>\n",
       "      <th>preferred_foot</th>\n",
       "      <th>overall</th>\n",
       "      <th>player_positions</th>\n",
       "      <th>weak_foot</th>\n",
       "      <th>skill_moves</th>\n",
       "      <th>work_rate</th>\n",
       "      <th>body_type</th>\n",
       "      <th>pace</th>\n",
       "      <th>...</th>\n",
       "      <th>mentality_composure</th>\n",
       "      <th>defending_marking_awareness</th>\n",
       "      <th>defending_standing_tackle</th>\n",
       "      <th>defending_sliding_tackle</th>\n",
       "      <th>goalkeeping_diving</th>\n",
       "      <th>goalkeeping_handling</th>\n",
       "      <th>goalkeeping_kicking</th>\n",
       "      <th>goalkeeping_positioning</th>\n",
       "      <th>goalkeeping_reflexes</th>\n",
       "      <th>goalkeeping_speed</th>\n",
       "    </tr>\n",
       "  </thead>\n",
       "  <tbody>\n",
       "    <tr>\n",
       "      <th>0</th>\n",
       "      <td>227246</td>\n",
       "      <td>L. Bronze</td>\n",
       "      <td>Right</td>\n",
       "      <td>92</td>\n",
       "      <td>RB, CM</td>\n",
       "      <td>3</td>\n",
       "      <td>3</td>\n",
       "      <td>High/High</td>\n",
       "      <td>Normal (170-185)</td>\n",
       "      <td>86.0</td>\n",
       "      <td>...</td>\n",
       "      <td>80</td>\n",
       "      <td>90</td>\n",
       "      <td>88</td>\n",
       "      <td>89</td>\n",
       "      <td>10</td>\n",
       "      <td>14</td>\n",
       "      <td>16</td>\n",
       "      <td>8</td>\n",
       "      <td>15</td>\n",
       "      <td>NaN</td>\n",
       "    </tr>\n",
       "    <tr>\n",
       "      <th>1</th>\n",
       "      <td>227316</td>\n",
       "      <td>W. Renard</td>\n",
       "      <td>Right</td>\n",
       "      <td>92</td>\n",
       "      <td>CB</td>\n",
       "      <td>2</td>\n",
       "      <td>2</td>\n",
       "      <td>High/Medium</td>\n",
       "      <td>Lean (185+)</td>\n",
       "      <td>68.0</td>\n",
       "      <td>...</td>\n",
       "      <td>80</td>\n",
       "      <td>90</td>\n",
       "      <td>93</td>\n",
       "      <td>91</td>\n",
       "      <td>7</td>\n",
       "      <td>14</td>\n",
       "      <td>17</td>\n",
       "      <td>11</td>\n",
       "      <td>15</td>\n",
       "      <td>NaN</td>\n",
       "    </tr>\n",
       "    <tr>\n",
       "      <th>2</th>\n",
       "      <td>233746</td>\n",
       "      <td>V. Miedema</td>\n",
       "      <td>Right</td>\n",
       "      <td>92</td>\n",
       "      <td>ST</td>\n",
       "      <td>4</td>\n",
       "      <td>4</td>\n",
       "      <td>High/Low</td>\n",
       "      <td>Normal (170-185)</td>\n",
       "      <td>81.0</td>\n",
       "      <td>...</td>\n",
       "      <td>91</td>\n",
       "      <td>22</td>\n",
       "      <td>30</td>\n",
       "      <td>23</td>\n",
       "      <td>14</td>\n",
       "      <td>16</td>\n",
       "      <td>17</td>\n",
       "      <td>14</td>\n",
       "      <td>17</td>\n",
       "      <td>NaN</td>\n",
       "    </tr>\n",
       "    <tr>\n",
       "      <th>3</th>\n",
       "      <td>227125</td>\n",
       "      <td>S. Kerr</td>\n",
       "      <td>Right</td>\n",
       "      <td>91</td>\n",
       "      <td>ST, LW</td>\n",
       "      <td>4</td>\n",
       "      <td>4</td>\n",
       "      <td>High/Medium</td>\n",
       "      <td>Normal (170-)</td>\n",
       "      <td>87.0</td>\n",
       "      <td>...</td>\n",
       "      <td>92</td>\n",
       "      <td>36</td>\n",
       "      <td>38</td>\n",
       "      <td>23</td>\n",
       "      <td>7</td>\n",
       "      <td>12</td>\n",
       "      <td>8</td>\n",
       "      <td>16</td>\n",
       "      <td>13</td>\n",
       "      <td>NaN</td>\n",
       "    </tr>\n",
       "    <tr>\n",
       "      <th>4</th>\n",
       "      <td>226301</td>\n",
       "      <td>A. Morgan</td>\n",
       "      <td>Left</td>\n",
       "      <td>90</td>\n",
       "      <td>ST</td>\n",
       "      <td>4</td>\n",
       "      <td>4</td>\n",
       "      <td>High/Low</td>\n",
       "      <td>Unique</td>\n",
       "      <td>86.0</td>\n",
       "      <td>...</td>\n",
       "      <td>91</td>\n",
       "      <td>34</td>\n",
       "      <td>29</td>\n",
       "      <td>27</td>\n",
       "      <td>11</td>\n",
       "      <td>11</td>\n",
       "      <td>10</td>\n",
       "      <td>10</td>\n",
       "      <td>11</td>\n",
       "      <td>NaN</td>\n",
       "    </tr>\n",
       "    <tr>\n",
       "      <th>5</th>\n",
       "      <td>226308</td>\n",
       "      <td>D. Marozsán</td>\n",
       "      <td>Right</td>\n",
       "      <td>90</td>\n",
       "      <td>CAM, LM, CM</td>\n",
       "      <td>4</td>\n",
       "      <td>5</td>\n",
       "      <td>High/Medium</td>\n",
       "      <td>Normal (170-185)</td>\n",
       "      <td>82.0</td>\n",
       "      <td>...</td>\n",
       "      <td>89</td>\n",
       "      <td>51</td>\n",
       "      <td>46</td>\n",
       "      <td>53</td>\n",
       "      <td>8</td>\n",
       "      <td>10</td>\n",
       "      <td>15</td>\n",
       "      <td>9</td>\n",
       "      <td>12</td>\n",
       "      <td>NaN</td>\n",
       "    </tr>\n",
       "    <tr>\n",
       "      <th>6</th>\n",
       "      <td>226328</td>\n",
       "      <td>M. Rapinoe</td>\n",
       "      <td>Right</td>\n",
       "      <td>90</td>\n",
       "      <td>LW, LM</td>\n",
       "      <td>4</td>\n",
       "      <td>4</td>\n",
       "      <td>High/Low</td>\n",
       "      <td>Lean (170-)</td>\n",
       "      <td>71.0</td>\n",
       "      <td>...</td>\n",
       "      <td>90</td>\n",
       "      <td>46</td>\n",
       "      <td>46</td>\n",
       "      <td>48</td>\n",
       "      <td>15</td>\n",
       "      <td>12</td>\n",
       "      <td>14</td>\n",
       "      <td>14</td>\n",
       "      <td>11</td>\n",
       "      <td>NaN</td>\n",
       "    </tr>\n",
       "    <tr>\n",
       "      <th>7</th>\n",
       "      <td>226330</td>\n",
       "      <td>T. Heath</td>\n",
       "      <td>Right</td>\n",
       "      <td>90</td>\n",
       "      <td>RW, CAM, LW</td>\n",
       "      <td>5</td>\n",
       "      <td>5</td>\n",
       "      <td>Medium/High</td>\n",
       "      <td>Lean (170-)</td>\n",
       "      <td>77.0</td>\n",
       "      <td>...</td>\n",
       "      <td>92</td>\n",
       "      <td>31</td>\n",
       "      <td>38</td>\n",
       "      <td>39</td>\n",
       "      <td>12</td>\n",
       "      <td>7</td>\n",
       "      <td>7</td>\n",
       "      <td>16</td>\n",
       "      <td>8</td>\n",
       "      <td>NaN</td>\n",
       "    </tr>\n",
       "    <tr>\n",
       "      <th>8</th>\n",
       "      <td>227102</td>\n",
       "      <td>C. Hansen</td>\n",
       "      <td>Right</td>\n",
       "      <td>90</td>\n",
       "      <td>RM, CAM, ST</td>\n",
       "      <td>4</td>\n",
       "      <td>4</td>\n",
       "      <td>High/Medium</td>\n",
       "      <td>Lean (170-185)</td>\n",
       "      <td>87.0</td>\n",
       "      <td>...</td>\n",
       "      <td>84</td>\n",
       "      <td>45</td>\n",
       "      <td>50</td>\n",
       "      <td>46</td>\n",
       "      <td>17</td>\n",
       "      <td>11</td>\n",
       "      <td>15</td>\n",
       "      <td>13</td>\n",
       "      <td>9</td>\n",
       "      <td>NaN</td>\n",
       "    </tr>\n",
       "    <tr>\n",
       "      <th>9</th>\n",
       "      <td>227318</td>\n",
       "      <td>A. Henry</td>\n",
       "      <td>Right</td>\n",
       "      <td>90</td>\n",
       "      <td>CDM, CM</td>\n",
       "      <td>3</td>\n",
       "      <td>4</td>\n",
       "      <td>High/High</td>\n",
       "      <td>Normal (170-185)</td>\n",
       "      <td>74.0</td>\n",
       "      <td>...</td>\n",
       "      <td>83</td>\n",
       "      <td>93</td>\n",
       "      <td>90</td>\n",
       "      <td>84</td>\n",
       "      <td>11</td>\n",
       "      <td>13</td>\n",
       "      <td>15</td>\n",
       "      <td>14</td>\n",
       "      <td>7</td>\n",
       "      <td>NaN</td>\n",
       "    </tr>\n",
       "    <tr>\n",
       "      <th>10</th>\n",
       "      <td>226333</td>\n",
       "      <td>J. Ertz</td>\n",
       "      <td>Right</td>\n",
       "      <td>89</td>\n",
       "      <td>CDM, CB</td>\n",
       "      <td>3</td>\n",
       "      <td>3</td>\n",
       "      <td>Medium/High</td>\n",
       "      <td>Normal (170-)</td>\n",
       "      <td>77.0</td>\n",
       "      <td>...</td>\n",
       "      <td>88</td>\n",
       "      <td>84</td>\n",
       "      <td>89</td>\n",
       "      <td>85</td>\n",
       "      <td>12</td>\n",
       "      <td>11</td>\n",
       "      <td>9</td>\n",
       "      <td>15</td>\n",
       "      <td>13</td>\n",
       "      <td>NaN</td>\n",
       "    </tr>\n",
       "    <tr>\n",
       "      <th>11</th>\n",
       "      <td>226359</td>\n",
       "      <td>C. Sinclair</td>\n",
       "      <td>Right</td>\n",
       "      <td>89</td>\n",
       "      <td>ST, CAM</td>\n",
       "      <td>4</td>\n",
       "      <td>4</td>\n",
       "      <td>High/Medium</td>\n",
       "      <td>Normal (170-185)</td>\n",
       "      <td>72.0</td>\n",
       "      <td>...</td>\n",
       "      <td>95</td>\n",
       "      <td>32</td>\n",
       "      <td>19</td>\n",
       "      <td>16</td>\n",
       "      <td>17</td>\n",
       "      <td>9</td>\n",
       "      <td>7</td>\n",
       "      <td>12</td>\n",
       "      <td>8</td>\n",
       "      <td>NaN</td>\n",
       "    </tr>\n",
       "    <tr>\n",
       "      <th>12</th>\n",
       "      <td>227331</td>\n",
       "      <td>E. Le Sommer</td>\n",
       "      <td>Right</td>\n",
       "      <td>89</td>\n",
       "      <td>ST, LW, CAM</td>\n",
       "      <td>5</td>\n",
       "      <td>4</td>\n",
       "      <td>Medium/High</td>\n",
       "      <td>Stocky (170-)</td>\n",
       "      <td>81.0</td>\n",
       "      <td>...</td>\n",
       "      <td>79</td>\n",
       "      <td>39</td>\n",
       "      <td>36</td>\n",
       "      <td>25</td>\n",
       "      <td>17</td>\n",
       "      <td>9</td>\n",
       "      <td>13</td>\n",
       "      <td>12</td>\n",
       "      <td>14</td>\n",
       "      <td>NaN</td>\n",
       "    </tr>\n",
       "    <tr>\n",
       "      <th>13</th>\n",
       "      <td>233748</td>\n",
       "      <td>L. Martens</td>\n",
       "      <td>Right</td>\n",
       "      <td>89</td>\n",
       "      <td>LW, CAM</td>\n",
       "      <td>4</td>\n",
       "      <td>5</td>\n",
       "      <td>Medium/Low</td>\n",
       "      <td>Normal (170-)</td>\n",
       "      <td>81.0</td>\n",
       "      <td>...</td>\n",
       "      <td>92</td>\n",
       "      <td>40</td>\n",
       "      <td>38</td>\n",
       "      <td>32</td>\n",
       "      <td>7</td>\n",
       "      <td>9</td>\n",
       "      <td>13</td>\n",
       "      <td>16</td>\n",
       "      <td>16</td>\n",
       "      <td>NaN</td>\n",
       "    </tr>\n",
       "    <tr>\n",
       "      <th>14</th>\n",
       "      <td>226177</td>\n",
       "      <td>B. Sauerbrunn</td>\n",
       "      <td>Right</td>\n",
       "      <td>88</td>\n",
       "      <td>CB, RB</td>\n",
       "      <td>2</td>\n",
       "      <td>2</td>\n",
       "      <td>Low/High</td>\n",
       "      <td>Normal (170-185)</td>\n",
       "      <td>73.0</td>\n",
       "      <td>...</td>\n",
       "      <td>89</td>\n",
       "      <td>89</td>\n",
       "      <td>88</td>\n",
       "      <td>89</td>\n",
       "      <td>15</td>\n",
       "      <td>12</td>\n",
       "      <td>7</td>\n",
       "      <td>10</td>\n",
       "      <td>11</td>\n",
       "      <td>NaN</td>\n",
       "    </tr>\n",
       "    <tr>\n",
       "      <th>15</th>\n",
       "      <td>226302</td>\n",
       "      <td>A. Popp</td>\n",
       "      <td>Right</td>\n",
       "      <td>88</td>\n",
       "      <td>ST, LM</td>\n",
       "      <td>5</td>\n",
       "      <td>4</td>\n",
       "      <td>Medium/Medium</td>\n",
       "      <td>Normal (170-185)</td>\n",
       "      <td>82.0</td>\n",
       "      <td>...</td>\n",
       "      <td>78</td>\n",
       "      <td>35</td>\n",
       "      <td>52</td>\n",
       "      <td>23</td>\n",
       "      <td>12</td>\n",
       "      <td>14</td>\n",
       "      <td>13</td>\n",
       "      <td>7</td>\n",
       "      <td>14</td>\n",
       "      <td>NaN</td>\n",
       "    </tr>\n",
       "    <tr>\n",
       "      <th>16</th>\n",
       "      <td>227255</td>\n",
       "      <td>F. Kirby</td>\n",
       "      <td>Right</td>\n",
       "      <td>88</td>\n",
       "      <td>CAM, ST, CM</td>\n",
       "      <td>3</td>\n",
       "      <td>4</td>\n",
       "      <td>High/Medium</td>\n",
       "      <td>Normal (170-)</td>\n",
       "      <td>87.0</td>\n",
       "      <td>...</td>\n",
       "      <td>76</td>\n",
       "      <td>61</td>\n",
       "      <td>45</td>\n",
       "      <td>39</td>\n",
       "      <td>13</td>\n",
       "      <td>9</td>\n",
       "      <td>12</td>\n",
       "      <td>16</td>\n",
       "      <td>16</td>\n",
       "      <td>NaN</td>\n",
       "    </tr>\n",
       "    <tr>\n",
       "      <th>17</th>\n",
       "      <td>227192</td>\n",
       "      <td>Jenni Hermoso</td>\n",
       "      <td>Left</td>\n",
       "      <td>87</td>\n",
       "      <td>ST, CAM, CF</td>\n",
       "      <td>4</td>\n",
       "      <td>4</td>\n",
       "      <td>Medium/Medium</td>\n",
       "      <td>Lean (170-185)</td>\n",
       "      <td>78.0</td>\n",
       "      <td>...</td>\n",
       "      <td>71</td>\n",
       "      <td>43</td>\n",
       "      <td>42</td>\n",
       "      <td>45</td>\n",
       "      <td>13</td>\n",
       "      <td>13</td>\n",
       "      <td>16</td>\n",
       "      <td>13</td>\n",
       "      <td>14</td>\n",
       "      <td>NaN</td>\n",
       "    </tr>\n",
       "    <tr>\n",
       "      <th>18</th>\n",
       "      <td>227327</td>\n",
       "      <td>S. Däbritz</td>\n",
       "      <td>Left</td>\n",
       "      <td>87</td>\n",
       "      <td>CM, LM, CAM</td>\n",
       "      <td>5</td>\n",
       "      <td>4</td>\n",
       "      <td>Medium/Medium</td>\n",
       "      <td>Normal (170-185)</td>\n",
       "      <td>82.0</td>\n",
       "      <td>...</td>\n",
       "      <td>79</td>\n",
       "      <td>61</td>\n",
       "      <td>78</td>\n",
       "      <td>64</td>\n",
       "      <td>13</td>\n",
       "      <td>14</td>\n",
       "      <td>16</td>\n",
       "      <td>11</td>\n",
       "      <td>16</td>\n",
       "      <td>NaN</td>\n",
       "    </tr>\n",
       "    <tr>\n",
       "      <th>19</th>\n",
       "      <td>227350</td>\n",
       "      <td>A. Majri</td>\n",
       "      <td>Left</td>\n",
       "      <td>87</td>\n",
       "      <td>LM, LB</td>\n",
       "      <td>3</td>\n",
       "      <td>4</td>\n",
       "      <td>High/High</td>\n",
       "      <td>Lean (170-)</td>\n",
       "      <td>83.0</td>\n",
       "      <td>...</td>\n",
       "      <td>83</td>\n",
       "      <td>87</td>\n",
       "      <td>87</td>\n",
       "      <td>86</td>\n",
       "      <td>10</td>\n",
       "      <td>16</td>\n",
       "      <td>12</td>\n",
       "      <td>14</td>\n",
       "      <td>10</td>\n",
       "      <td>NaN</td>\n",
       "    </tr>\n",
       "  </tbody>\n",
       "</table>\n",
       "<p>20 rows × 50 columns</p>\n",
       "</div>"
      ],
      "text/plain": [
       "    sofifa_id     short_name preferred_foot  overall player_positions  \\\n",
       "0      227246      L. Bronze          Right       92           RB, CM   \n",
       "1      227316      W. Renard          Right       92               CB   \n",
       "2      233746     V. Miedema          Right       92               ST   \n",
       "3      227125        S. Kerr          Right       91           ST, LW   \n",
       "4      226301      A. Morgan           Left       90               ST   \n",
       "5      226308    D. Marozsán          Right       90      CAM, LM, CM   \n",
       "6      226328     M. Rapinoe          Right       90           LW, LM   \n",
       "7      226330       T. Heath          Right       90      RW, CAM, LW   \n",
       "8      227102      C. Hansen          Right       90      RM, CAM, ST   \n",
       "9      227318       A. Henry          Right       90          CDM, CM   \n",
       "10     226333        J. Ertz          Right       89          CDM, CB   \n",
       "11     226359    C. Sinclair          Right       89          ST, CAM   \n",
       "12     227331   E. Le Sommer          Right       89      ST, LW, CAM   \n",
       "13     233748     L. Martens          Right       89          LW, CAM   \n",
       "14     226177  B. Sauerbrunn          Right       88           CB, RB   \n",
       "15     226302        A. Popp          Right       88           ST, LM   \n",
       "16     227255       F. Kirby          Right       88      CAM, ST, CM   \n",
       "17     227192  Jenni Hermoso           Left       87      ST, CAM, CF   \n",
       "18     227327     S. Däbritz           Left       87      CM, LM, CAM   \n",
       "19     227350       A. Majri           Left       87           LM, LB   \n",
       "\n",
       "    weak_foot  skill_moves      work_rate         body_type  pace  ...  \\\n",
       "0           3            3      High/High  Normal (170-185)  86.0  ...   \n",
       "1           2            2    High/Medium       Lean (185+)  68.0  ...   \n",
       "2           4            4       High/Low  Normal (170-185)  81.0  ...   \n",
       "3           4            4    High/Medium     Normal (170-)  87.0  ...   \n",
       "4           4            4       High/Low            Unique  86.0  ...   \n",
       "5           4            5    High/Medium  Normal (170-185)  82.0  ...   \n",
       "6           4            4       High/Low       Lean (170-)  71.0  ...   \n",
       "7           5            5    Medium/High       Lean (170-)  77.0  ...   \n",
       "8           4            4    High/Medium    Lean (170-185)  87.0  ...   \n",
       "9           3            4      High/High  Normal (170-185)  74.0  ...   \n",
       "10          3            3    Medium/High     Normal (170-)  77.0  ...   \n",
       "11          4            4    High/Medium  Normal (170-185)  72.0  ...   \n",
       "12          5            4    Medium/High     Stocky (170-)  81.0  ...   \n",
       "13          4            5     Medium/Low     Normal (170-)  81.0  ...   \n",
       "14          2            2       Low/High  Normal (170-185)  73.0  ...   \n",
       "15          5            4  Medium/Medium  Normal (170-185)  82.0  ...   \n",
       "16          3            4    High/Medium     Normal (170-)  87.0  ...   \n",
       "17          4            4  Medium/Medium    Lean (170-185)  78.0  ...   \n",
       "18          5            4  Medium/Medium  Normal (170-185)  82.0  ...   \n",
       "19          3            4      High/High       Lean (170-)  83.0  ...   \n",
       "\n",
       "    mentality_composure  defending_marking_awareness  \\\n",
       "0                    80                           90   \n",
       "1                    80                           90   \n",
       "2                    91                           22   \n",
       "3                    92                           36   \n",
       "4                    91                           34   \n",
       "5                    89                           51   \n",
       "6                    90                           46   \n",
       "7                    92                           31   \n",
       "8                    84                           45   \n",
       "9                    83                           93   \n",
       "10                   88                           84   \n",
       "11                   95                           32   \n",
       "12                   79                           39   \n",
       "13                   92                           40   \n",
       "14                   89                           89   \n",
       "15                   78                           35   \n",
       "16                   76                           61   \n",
       "17                   71                           43   \n",
       "18                   79                           61   \n",
       "19                   83                           87   \n",
       "\n",
       "    defending_standing_tackle  defending_sliding_tackle  goalkeeping_diving  \\\n",
       "0                          88                        89                  10   \n",
       "1                          93                        91                   7   \n",
       "2                          30                        23                  14   \n",
       "3                          38                        23                   7   \n",
       "4                          29                        27                  11   \n",
       "5                          46                        53                   8   \n",
       "6                          46                        48                  15   \n",
       "7                          38                        39                  12   \n",
       "8                          50                        46                  17   \n",
       "9                          90                        84                  11   \n",
       "10                         89                        85                  12   \n",
       "11                         19                        16                  17   \n",
       "12                         36                        25                  17   \n",
       "13                         38                        32                   7   \n",
       "14                         88                        89                  15   \n",
       "15                         52                        23                  12   \n",
       "16                         45                        39                  13   \n",
       "17                         42                        45                  13   \n",
       "18                         78                        64                  13   \n",
       "19                         87                        86                  10   \n",
       "\n",
       "    goalkeeping_handling  goalkeeping_kicking  goalkeeping_positioning  \\\n",
       "0                     14                   16                        8   \n",
       "1                     14                   17                       11   \n",
       "2                     16                   17                       14   \n",
       "3                     12                    8                       16   \n",
       "4                     11                   10                       10   \n",
       "5                     10                   15                        9   \n",
       "6                     12                   14                       14   \n",
       "7                      7                    7                       16   \n",
       "8                     11                   15                       13   \n",
       "9                     13                   15                       14   \n",
       "10                    11                    9                       15   \n",
       "11                     9                    7                       12   \n",
       "12                     9                   13                       12   \n",
       "13                     9                   13                       16   \n",
       "14                    12                    7                       10   \n",
       "15                    14                   13                        7   \n",
       "16                     9                   12                       16   \n",
       "17                    13                   16                       13   \n",
       "18                    14                   16                       11   \n",
       "19                    16                   12                       14   \n",
       "\n",
       "    goalkeeping_reflexes  goalkeeping_speed  \n",
       "0                     15                NaN  \n",
       "1                     15                NaN  \n",
       "2                     17                NaN  \n",
       "3                     13                NaN  \n",
       "4                     11                NaN  \n",
       "5                     12                NaN  \n",
       "6                     11                NaN  \n",
       "7                      8                NaN  \n",
       "8                      9                NaN  \n",
       "9                      7                NaN  \n",
       "10                    13                NaN  \n",
       "11                     8                NaN  \n",
       "12                    14                NaN  \n",
       "13                    16                NaN  \n",
       "14                    11                NaN  \n",
       "15                    14                NaN  \n",
       "16                    16                NaN  \n",
       "17                    14                NaN  \n",
       "18                    16                NaN  \n",
       "19                    10                NaN  \n",
       "\n",
       "[20 rows x 50 columns]"
      ]
     },
     "execution_count": 153,
     "metadata": {},
     "output_type": "execute_result"
    }
   ],
   "source": [
    "abilities_df_cleaned.head(20)"
   ]
  },
  {
   "cell_type": "code",
   "execution_count": 157,
   "metadata": {},
   "outputs": [],
   "source": [
    "def plot_violin_plot(df,x_col='defending',y_col='work_rate'):\n",
    "\n",
    "       unique_cols = list(df[y_col].unique())\n",
    "\n",
    "       fig = go.Figure()\n",
    "\n",
    "       for rate in unique_cols:\n",
    "              fig.add_trace(go.Violin(x=abilities_df_cleaned[y_col][abilities_df_cleaned[y_col] == rate],\n",
    "                                      y=abilities_df_cleaned[x_col][abilities_df_cleaned[y_col] == rate],\n",
    "                                      name=rate,\n",
    "                                      box_visible=True,\n",
    "                                      meanline_visible=True))\n",
    "\n",
    "\n",
    "       title = x_col.replace('_',\" \").capitalize()+\" vs \"+ y_col.replace('_',\" \").capitalize()\n",
    "\n",
    "       fig.update_layout(title=title,\n",
    "                     xaxis_title=y_col,\n",
    "                     yaxis_title=x_col,\n",
    "                     legend_title=y_col.replace('_',\" \").capitalize(),\n",
    "                     font=dict(\n",
    "                     family=\"Courier New, monospace\",\n",
    "                     size=12,\n",
    "                     color=\"black\"\n",
    "       ))\n",
    "       fig.show()"
   ]
  },
  {
   "cell_type": "markdown",
   "metadata": {},
   "source": [
    "Dribbing vs Body Type"
   ]
  },
  {
   "cell_type": "code",
   "execution_count": 158,
   "metadata": {},
   "outputs": [
    {
     "data": {
      "application/vnd.plotly.v1+json": {
       "config": {
        "plotlyServerURL": "https://plot.ly"
       },
       "data": [
        {
         "box": {
          "visible": true
         },
         "meanline": {
          "visible": true
         },
         "name": "Normal (170-185)",
         "type": "violin",
         "x": [
          "Normal (170-185)",
          "Normal (170-185)",
          "Normal (170-185)",
          "Normal (170-185)",
          "Normal (170-185)",
          "Normal (170-185)",
          "Normal (170-185)",
          "Normal (170-185)",
          "Normal (170-185)",
          "Normal (170-185)",
          "Normal (170-185)",
          "Normal (170-185)",
          "Normal (170-185)",
          "Normal (170-185)",
          "Normal (170-185)",
          "Normal (170-185)",
          "Normal (170-185)",
          "Normal (170-185)",
          "Normal (170-185)",
          "Normal (170-185)",
          "Normal (170-185)",
          "Normal (170-185)",
          "Normal (170-185)",
          "Normal (170-185)",
          "Normal (170-185)",
          "Normal (170-185)",
          "Normal (170-185)",
          "Normal (170-185)",
          "Normal (170-185)",
          "Normal (170-185)",
          "Normal (170-185)",
          "Normal (170-185)",
          "Normal (170-185)",
          "Normal (170-185)",
          "Normal (170-185)",
          "Normal (170-185)",
          "Normal (170-185)",
          "Normal (170-185)",
          "Normal (170-185)",
          "Normal (170-185)",
          "Normal (170-185)",
          "Normal (170-185)",
          "Normal (170-185)",
          "Normal (170-185)",
          "Normal (170-185)",
          "Normal (170-185)",
          "Normal (170-185)",
          "Normal (170-185)",
          "Normal (170-185)",
          "Normal (170-185)",
          "Normal (170-185)",
          "Normal (170-185)",
          "Normal (170-185)",
          "Normal (170-185)",
          "Normal (170-185)",
          "Normal (170-185)",
          "Normal (170-185)",
          "Normal (170-185)",
          "Normal (170-185)",
          "Normal (170-185)",
          "Normal (170-185)",
          "Normal (170-185)",
          "Normal (170-185)",
          "Normal (170-185)",
          "Normal (170-185)",
          "Normal (170-185)",
          "Normal (170-185)",
          "Normal (170-185)",
          "Normal (170-185)",
          "Normal (170-185)",
          "Normal (170-185)",
          "Normal (170-185)",
          "Normal (170-185)",
          "Normal (170-185)",
          "Normal (170-185)",
          "Normal (170-185)",
          "Normal (170-185)",
          "Normal (170-185)",
          "Normal (170-185)",
          "Normal (170-185)"
         ],
         "y": [
          81,
          88,
          89,
          80,
          85,
          63,
          81,
          87,
          83,
          0,
          0,
          66,
          71,
          84,
          0,
          0,
          83,
          0,
          68,
          81,
          84,
          72,
          75,
          0,
          83,
          82,
          0,
          84,
          0,
          69,
          0,
          57,
          0,
          75,
          78,
          57,
          66,
          74,
          75,
          63,
          77,
          57,
          72,
          0,
          71,
          58,
          0,
          74,
          60,
          76,
          47,
          67,
          45,
          0,
          73,
          62,
          80,
          72,
          73,
          70,
          73,
          68,
          0,
          68,
          72,
          74,
          74,
          0,
          67,
          66,
          49,
          0,
          0,
          41,
          75,
          57,
          0,
          47,
          67,
          58
         ]
        },
        {
         "box": {
          "visible": true
         },
         "meanline": {
          "visible": true
         },
         "name": "Lean (185+)",
         "type": "violin",
         "x": [
          "Lean (185+)",
          "Lean (185+)"
         ],
         "y": [
          73,
          67
         ]
        },
        {
         "box": {
          "visible": true
         },
         "meanline": {
          "visible": true
         },
         "name": "Normal (170-)",
         "type": "violin",
         "x": [
          "Normal (170-)",
          "Normal (170-)",
          "Normal (170-)",
          "Normal (170-)",
          "Normal (170-)",
          "Normal (170-)",
          "Normal (170-)",
          "Normal (170-)",
          "Normal (170-)",
          "Normal (170-)",
          "Normal (170-)",
          "Normal (170-)",
          "Normal (170-)",
          "Normal (170-)",
          "Normal (170-)",
          "Normal (170-)",
          "Normal (170-)",
          "Normal (170-)",
          "Normal (170-)",
          "Normal (170-)",
          "Normal (170-)",
          "Normal (170-)",
          "Normal (170-)",
          "Normal (170-)",
          "Normal (170-)",
          "Normal (170-)",
          "Normal (170-)",
          "Normal (170-)",
          "Normal (170-)",
          "Normal (170-)",
          "Normal (170-)",
          "Normal (170-)",
          "Normal (170-)",
          "Normal (170-)",
          "Normal (170-)",
          "Normal (170-)",
          "Normal (170-)",
          "Normal (170-)",
          "Normal (170-)",
          "Normal (170-)",
          "Normal (170-)",
          "Normal (170-)",
          "Normal (170-)",
          "Normal (170-)",
          "Normal (170-)",
          "Normal (170-)",
          "Normal (170-)",
          "Normal (170-)",
          "Normal (170-)",
          "Normal (170-)",
          "Normal (170-)",
          "Normal (170-)",
          "Normal (170-)",
          "Normal (170-)",
          "Normal (170-)",
          "Normal (170-)",
          "Normal (170-)",
          "Normal (170-)",
          "Normal (170-)",
          "Normal (170-)",
          "Normal (170-)",
          "Normal (170-)",
          "Normal (170-)",
          "Normal (170-)",
          "Normal (170-)",
          "Normal (170-)",
          "Normal (170-)",
          "Normal (170-)",
          "Normal (170-)",
          "Normal (170-)",
          "Normal (170-)",
          "Normal (170-)",
          "Normal (170-)",
          "Normal (170-)",
          "Normal (170-)",
          "Normal (170-)",
          "Normal (170-)",
          "Normal (170-)",
          "Normal (170-)",
          "Normal (170-)",
          "Normal (170-)",
          "Normal (170-)",
          "Normal (170-)",
          "Normal (170-)",
          "Normal (170-)",
          "Normal (170-)",
          "Normal (170-)",
          "Normal (170-)",
          "Normal (170-)",
          "Normal (170-)",
          "Normal (170-)",
          "Normal (170-)",
          "Normal (170-)",
          "Normal (170-)",
          "Normal (170-)",
          "Normal (170-)",
          "Normal (170-)",
          "Normal (170-)",
          "Normal (170-)",
          "Normal (170-)",
          "Normal (170-)",
          "Normal (170-)",
          "Normal (170-)",
          "Normal (170-)",
          "Normal (170-)",
          "Normal (170-)",
          "Normal (170-)",
          "Normal (170-)",
          "Normal (170-)",
          "Normal (170-)",
          "Normal (170-)",
          "Normal (170-)",
          "Normal (170-)",
          "Normal (170-)",
          "Normal (170-)",
          "Normal (170-)",
          "Normal (170-)",
          "Normal (170-)",
          "Normal (170-)",
          "Normal (170-)",
          "Normal (170-)",
          "Normal (170-)",
          "Normal (170-)",
          "Normal (170-)",
          "Normal (170-)",
          "Normal (170-)",
          "Normal (170-)",
          "Normal (170-)",
          "Normal (170-)",
          "Normal (170-)",
          "Normal (170-)",
          "Normal (170-)",
          "Normal (170-)",
          "Normal (170-)",
          "Normal (170-)",
          "Normal (170-)",
          "Normal (170-)",
          "Normal (170-)",
          "Normal (170-)",
          "Normal (170-)",
          "Normal (170-)",
          "Normal (170-)",
          "Normal (170-)",
          "Normal (170-)",
          "Normal (170-)",
          "Normal (170-)",
          "Normal (170-)",
          "Normal (170-)",
          "Normal (170-)",
          "Normal (170-)",
          "Normal (170-)",
          "Normal (170-)",
          "Normal (170-)",
          "Normal (170-)",
          "Normal (170-)",
          "Normal (170-)",
          "Normal (170-)",
          "Normal (170-)",
          "Normal (170-)",
          "Normal (170-)",
          "Normal (170-)",
          "Normal (170-)",
          "Normal (170-)",
          "Normal (170-)",
          "Normal (170-)",
          "Normal (170-)",
          "Normal (170-)",
          "Normal (170-)",
          "Normal (170-)",
          "Normal (170-)",
          "Normal (170-)",
          "Normal (170-)",
          "Normal (170-)",
          "Normal (170-)",
          "Normal (170-)",
          "Normal (170-)",
          "Normal (170-)"
         ],
         "y": [
          91,
          75,
          89,
          88,
          86,
          81,
          85,
          87,
          86,
          69,
          86,
          84,
          81,
          79,
          83,
          85,
          89,
          83,
          74,
          71,
          82,
          79,
          79,
          81,
          80,
          68,
          86,
          76,
          64,
          82,
          0,
          65,
          80,
          81,
          69,
          81,
          78,
          67,
          72,
          72,
          74,
          78,
          76,
          81,
          81,
          83,
          74,
          82,
          76,
          77,
          76,
          77,
          81,
          76,
          78,
          79,
          74,
          77,
          76,
          79,
          76,
          60,
          77,
          74,
          74,
          79,
          78,
          75,
          76,
          60,
          76,
          76,
          57,
          72,
          80,
          77,
          72,
          77,
          0,
          78,
          66,
          58,
          74,
          74,
          48,
          75,
          49,
          74,
          78,
          73,
          77,
          77,
          55,
          76,
          63,
          74,
          75,
          62,
          77,
          73,
          72,
          62,
          70,
          54,
          77,
          72,
          75,
          64,
          0,
          75,
          53,
          77,
          72,
          73,
          69,
          72,
          73,
          65,
          69,
          76,
          73,
          74,
          0,
          69,
          71,
          71,
          62,
          62,
          60,
          71,
          73,
          61,
          74,
          68,
          70,
          71,
          66,
          55,
          73,
          67,
          72,
          67,
          70,
          72,
          45,
          71,
          72,
          60,
          60,
          68,
          0,
          73,
          64,
          52,
          61,
          57,
          65,
          69,
          0,
          69,
          68,
          51,
          64,
          67,
          66,
          61,
          48,
          71,
          67,
          67,
          72,
          0,
          54,
          0,
          55,
          72,
          67
         ]
        },
        {
         "box": {
          "visible": true
         },
         "meanline": {
          "visible": true
         },
         "name": "Unique",
         "type": "violin",
         "x": [
          "Unique"
         ],
         "y": [
          86
         ]
        },
        {
         "box": {
          "visible": true
         },
         "meanline": {
          "visible": true
         },
         "name": "Lean (170-)",
         "type": "violin",
         "x": [
          "Lean (170-)",
          "Lean (170-)",
          "Lean (170-)",
          "Lean (170-)",
          "Lean (170-)",
          "Lean (170-)",
          "Lean (170-)",
          "Lean (170-)",
          "Lean (170-)",
          "Lean (170-)",
          "Lean (170-)",
          "Lean (170-)",
          "Lean (170-)",
          "Lean (170-)",
          "Lean (170-)",
          "Lean (170-)",
          "Lean (170-)",
          "Lean (170-)",
          "Lean (170-)",
          "Lean (170-)",
          "Lean (170-)",
          "Lean (170-)",
          "Lean (170-)",
          "Lean (170-)",
          "Lean (170-)",
          "Lean (170-)",
          "Lean (170-)",
          "Lean (170-)",
          "Lean (170-)",
          "Lean (170-)",
          "Lean (170-)",
          "Lean (170-)",
          "Lean (170-)",
          "Lean (170-)",
          "Lean (170-)",
          "Lean (170-)",
          "Lean (170-)",
          "Lean (170-)",
          "Lean (170-)",
          "Lean (170-)",
          "Lean (170-)",
          "Lean (170-)",
          "Lean (170-)",
          "Lean (170-)"
         ],
         "y": [
          89,
          93,
          87,
          83,
          79,
          87,
          85,
          86,
          74,
          84,
          81,
          69,
          75,
          77,
          80,
          76,
          75,
          73,
          75,
          77,
          74,
          73,
          75,
          0,
          75,
          72,
          57,
          70,
          74,
          70,
          76,
          73,
          48,
          72,
          72,
          74,
          72,
          70,
          67,
          67,
          66,
          69,
          62,
          57
         ]
        },
        {
         "box": {
          "visible": true
         },
         "meanline": {
          "visible": true
         },
         "name": "Lean (170-185)",
         "type": "violin",
         "x": [
          "Lean (170-185)",
          "Lean (170-185)",
          "Lean (170-185)",
          "Lean (170-185)",
          "Lean (170-185)",
          "Lean (170-185)",
          "Lean (170-185)",
          "Lean (170-185)",
          "Lean (170-185)",
          "Lean (170-185)",
          "Lean (170-185)",
          "Lean (170-185)",
          "Lean (170-185)",
          "Lean (170-185)",
          "Lean (170-185)",
          "Lean (170-185)",
          "Lean (170-185)",
          "Lean (170-185)",
          "Lean (170-185)",
          "Lean (170-185)",
          "Lean (170-185)",
          "Lean (170-185)",
          "Lean (170-185)",
          "Lean (170-185)",
          "Lean (170-185)",
          "Lean (170-185)",
          "Lean (170-185)",
          "Lean (170-185)",
          "Lean (170-185)",
          "Lean (170-185)",
          "Lean (170-185)",
          "Lean (170-185)",
          "Lean (170-185)",
          "Lean (170-185)",
          "Lean (170-185)",
          "Lean (170-185)",
          "Lean (170-185)",
          "Lean (170-185)",
          "Lean (170-185)",
          "Lean (170-185)",
          "Lean (170-185)",
          "Lean (170-185)",
          "Lean (170-185)",
          "Lean (170-185)",
          "Lean (170-185)",
          "Lean (170-185)",
          "Lean (170-185)",
          "Lean (170-185)",
          "Lean (170-185)"
         ],
         "y": [
          89,
          85,
          80,
          79,
          83,
          67,
          80,
          84,
          65,
          82,
          71,
          0,
          78,
          0,
          75,
          78,
          0,
          0,
          72,
          76,
          76,
          53,
          62,
          0,
          0,
          64,
          71,
          68,
          56,
          0,
          73,
          64,
          45,
          0,
          73,
          56,
          75,
          68,
          0,
          72,
          68,
          65,
          0,
          57,
          0,
          68,
          0,
          69,
          70
         ]
        },
        {
         "box": {
          "visible": true
         },
         "meanline": {
          "visible": true
         },
         "name": "Stocky (170-)",
         "type": "violin",
         "x": [
          "Stocky (170-)",
          "Stocky (170-)",
          "Stocky (170-)",
          "Stocky (170-)",
          "Stocky (170-)",
          "Stocky (170-)",
          "Stocky (170-)",
          "Stocky (170-)",
          "Stocky (170-)",
          "Stocky (170-)",
          "Stocky (170-)",
          "Stocky (170-)",
          "Stocky (170-)",
          "Stocky (170-)",
          "Stocky (170-)",
          "Stocky (170-)",
          "Stocky (170-)",
          "Stocky (170-)",
          "Stocky (170-)",
          "Stocky (170-)",
          "Stocky (170-)"
         ],
         "y": [
          84,
          75,
          72,
          67,
          79,
          84,
          70,
          79,
          70,
          76,
          0,
          43,
          74,
          48,
          76,
          73,
          64,
          70,
          69,
          71,
          58
         ]
        },
        {
         "box": {
          "visible": true
         },
         "meanline": {
          "visible": true
         },
         "name": "Stocky (170-185)",
         "type": "violin",
         "x": [
          "Stocky (170-185)",
          "Stocky (170-185)",
          "Stocky (170-185)",
          "Stocky (170-185)",
          "Stocky (170-185)",
          "Stocky (170-185)",
          "Stocky (170-185)",
          "Stocky (170-185)",
          "Stocky (170-185)",
          "Stocky (170-185)",
          "Stocky (170-185)",
          "Stocky (170-185)",
          "Stocky (170-185)",
          "Stocky (170-185)",
          "Stocky (170-185)",
          "Stocky (170-185)",
          "Stocky (170-185)"
         ],
         "y": [
          58,
          77,
          0,
          63,
          80,
          0,
          0,
          56,
          0,
          55,
          74,
          0,
          0,
          0,
          40,
          0,
          63
         ]
        }
       ],
       "layout": {
        "font": {
         "color": "black",
         "family": "Courier New, monospace",
         "size": 12
        },
        "legend": {
         "title": {
          "text": "Body type"
         }
        },
        "template": {
         "data": {
          "bar": [
           {
            "error_x": {
             "color": "#2a3f5f"
            },
            "error_y": {
             "color": "#2a3f5f"
            },
            "marker": {
             "line": {
              "color": "#E5ECF6",
              "width": 0.5
             },
             "pattern": {
              "fillmode": "overlay",
              "size": 10,
              "solidity": 0.2
             }
            },
            "type": "bar"
           }
          ],
          "barpolar": [
           {
            "marker": {
             "line": {
              "color": "#E5ECF6",
              "width": 0.5
             },
             "pattern": {
              "fillmode": "overlay",
              "size": 10,
              "solidity": 0.2
             }
            },
            "type": "barpolar"
           }
          ],
          "carpet": [
           {
            "aaxis": {
             "endlinecolor": "#2a3f5f",
             "gridcolor": "white",
             "linecolor": "white",
             "minorgridcolor": "white",
             "startlinecolor": "#2a3f5f"
            },
            "baxis": {
             "endlinecolor": "#2a3f5f",
             "gridcolor": "white",
             "linecolor": "white",
             "minorgridcolor": "white",
             "startlinecolor": "#2a3f5f"
            },
            "type": "carpet"
           }
          ],
          "choropleth": [
           {
            "colorbar": {
             "outlinewidth": 0,
             "ticks": ""
            },
            "type": "choropleth"
           }
          ],
          "contour": [
           {
            "colorbar": {
             "outlinewidth": 0,
             "ticks": ""
            },
            "colorscale": [
             [
              0,
              "#0d0887"
             ],
             [
              0.1111111111111111,
              "#46039f"
             ],
             [
              0.2222222222222222,
              "#7201a8"
             ],
             [
              0.3333333333333333,
              "#9c179e"
             ],
             [
              0.4444444444444444,
              "#bd3786"
             ],
             [
              0.5555555555555556,
              "#d8576b"
             ],
             [
              0.6666666666666666,
              "#ed7953"
             ],
             [
              0.7777777777777778,
              "#fb9f3a"
             ],
             [
              0.8888888888888888,
              "#fdca26"
             ],
             [
              1,
              "#f0f921"
             ]
            ],
            "type": "contour"
           }
          ],
          "contourcarpet": [
           {
            "colorbar": {
             "outlinewidth": 0,
             "ticks": ""
            },
            "type": "contourcarpet"
           }
          ],
          "heatmap": [
           {
            "colorbar": {
             "outlinewidth": 0,
             "ticks": ""
            },
            "colorscale": [
             [
              0,
              "#0d0887"
             ],
             [
              0.1111111111111111,
              "#46039f"
             ],
             [
              0.2222222222222222,
              "#7201a8"
             ],
             [
              0.3333333333333333,
              "#9c179e"
             ],
             [
              0.4444444444444444,
              "#bd3786"
             ],
             [
              0.5555555555555556,
              "#d8576b"
             ],
             [
              0.6666666666666666,
              "#ed7953"
             ],
             [
              0.7777777777777778,
              "#fb9f3a"
             ],
             [
              0.8888888888888888,
              "#fdca26"
             ],
             [
              1,
              "#f0f921"
             ]
            ],
            "type": "heatmap"
           }
          ],
          "heatmapgl": [
           {
            "colorbar": {
             "outlinewidth": 0,
             "ticks": ""
            },
            "colorscale": [
             [
              0,
              "#0d0887"
             ],
             [
              0.1111111111111111,
              "#46039f"
             ],
             [
              0.2222222222222222,
              "#7201a8"
             ],
             [
              0.3333333333333333,
              "#9c179e"
             ],
             [
              0.4444444444444444,
              "#bd3786"
             ],
             [
              0.5555555555555556,
              "#d8576b"
             ],
             [
              0.6666666666666666,
              "#ed7953"
             ],
             [
              0.7777777777777778,
              "#fb9f3a"
             ],
             [
              0.8888888888888888,
              "#fdca26"
             ],
             [
              1,
              "#f0f921"
             ]
            ],
            "type": "heatmapgl"
           }
          ],
          "histogram": [
           {
            "marker": {
             "pattern": {
              "fillmode": "overlay",
              "size": 10,
              "solidity": 0.2
             }
            },
            "type": "histogram"
           }
          ],
          "histogram2d": [
           {
            "colorbar": {
             "outlinewidth": 0,
             "ticks": ""
            },
            "colorscale": [
             [
              0,
              "#0d0887"
             ],
             [
              0.1111111111111111,
              "#46039f"
             ],
             [
              0.2222222222222222,
              "#7201a8"
             ],
             [
              0.3333333333333333,
              "#9c179e"
             ],
             [
              0.4444444444444444,
              "#bd3786"
             ],
             [
              0.5555555555555556,
              "#d8576b"
             ],
             [
              0.6666666666666666,
              "#ed7953"
             ],
             [
              0.7777777777777778,
              "#fb9f3a"
             ],
             [
              0.8888888888888888,
              "#fdca26"
             ],
             [
              1,
              "#f0f921"
             ]
            ],
            "type": "histogram2d"
           }
          ],
          "histogram2dcontour": [
           {
            "colorbar": {
             "outlinewidth": 0,
             "ticks": ""
            },
            "colorscale": [
             [
              0,
              "#0d0887"
             ],
             [
              0.1111111111111111,
              "#46039f"
             ],
             [
              0.2222222222222222,
              "#7201a8"
             ],
             [
              0.3333333333333333,
              "#9c179e"
             ],
             [
              0.4444444444444444,
              "#bd3786"
             ],
             [
              0.5555555555555556,
              "#d8576b"
             ],
             [
              0.6666666666666666,
              "#ed7953"
             ],
             [
              0.7777777777777778,
              "#fb9f3a"
             ],
             [
              0.8888888888888888,
              "#fdca26"
             ],
             [
              1,
              "#f0f921"
             ]
            ],
            "type": "histogram2dcontour"
           }
          ],
          "mesh3d": [
           {
            "colorbar": {
             "outlinewidth": 0,
             "ticks": ""
            },
            "type": "mesh3d"
           }
          ],
          "parcoords": [
           {
            "line": {
             "colorbar": {
              "outlinewidth": 0,
              "ticks": ""
             }
            },
            "type": "parcoords"
           }
          ],
          "pie": [
           {
            "automargin": true,
            "type": "pie"
           }
          ],
          "scatter": [
           {
            "marker": {
             "colorbar": {
              "outlinewidth": 0,
              "ticks": ""
             }
            },
            "type": "scatter"
           }
          ],
          "scatter3d": [
           {
            "line": {
             "colorbar": {
              "outlinewidth": 0,
              "ticks": ""
             }
            },
            "marker": {
             "colorbar": {
              "outlinewidth": 0,
              "ticks": ""
             }
            },
            "type": "scatter3d"
           }
          ],
          "scattercarpet": [
           {
            "marker": {
             "colorbar": {
              "outlinewidth": 0,
              "ticks": ""
             }
            },
            "type": "scattercarpet"
           }
          ],
          "scattergeo": [
           {
            "marker": {
             "colorbar": {
              "outlinewidth": 0,
              "ticks": ""
             }
            },
            "type": "scattergeo"
           }
          ],
          "scattergl": [
           {
            "marker": {
             "colorbar": {
              "outlinewidth": 0,
              "ticks": ""
             }
            },
            "type": "scattergl"
           }
          ],
          "scattermapbox": [
           {
            "marker": {
             "colorbar": {
              "outlinewidth": 0,
              "ticks": ""
             }
            },
            "type": "scattermapbox"
           }
          ],
          "scatterpolar": [
           {
            "marker": {
             "colorbar": {
              "outlinewidth": 0,
              "ticks": ""
             }
            },
            "type": "scatterpolar"
           }
          ],
          "scatterpolargl": [
           {
            "marker": {
             "colorbar": {
              "outlinewidth": 0,
              "ticks": ""
             }
            },
            "type": "scatterpolargl"
           }
          ],
          "scatterternary": [
           {
            "marker": {
             "colorbar": {
              "outlinewidth": 0,
              "ticks": ""
             }
            },
            "type": "scatterternary"
           }
          ],
          "surface": [
           {
            "colorbar": {
             "outlinewidth": 0,
             "ticks": ""
            },
            "colorscale": [
             [
              0,
              "#0d0887"
             ],
             [
              0.1111111111111111,
              "#46039f"
             ],
             [
              0.2222222222222222,
              "#7201a8"
             ],
             [
              0.3333333333333333,
              "#9c179e"
             ],
             [
              0.4444444444444444,
              "#bd3786"
             ],
             [
              0.5555555555555556,
              "#d8576b"
             ],
             [
              0.6666666666666666,
              "#ed7953"
             ],
             [
              0.7777777777777778,
              "#fb9f3a"
             ],
             [
              0.8888888888888888,
              "#fdca26"
             ],
             [
              1,
              "#f0f921"
             ]
            ],
            "type": "surface"
           }
          ],
          "table": [
           {
            "cells": {
             "fill": {
              "color": "#EBF0F8"
             },
             "line": {
              "color": "white"
             }
            },
            "header": {
             "fill": {
              "color": "#C8D4E3"
             },
             "line": {
              "color": "white"
             }
            },
            "type": "table"
           }
          ]
         },
         "layout": {
          "annotationdefaults": {
           "arrowcolor": "#2a3f5f",
           "arrowhead": 0,
           "arrowwidth": 1
          },
          "autotypenumbers": "strict",
          "coloraxis": {
           "colorbar": {
            "outlinewidth": 0,
            "ticks": ""
           }
          },
          "colorscale": {
           "diverging": [
            [
             0,
             "#8e0152"
            ],
            [
             0.1,
             "#c51b7d"
            ],
            [
             0.2,
             "#de77ae"
            ],
            [
             0.3,
             "#f1b6da"
            ],
            [
             0.4,
             "#fde0ef"
            ],
            [
             0.5,
             "#f7f7f7"
            ],
            [
             0.6,
             "#e6f5d0"
            ],
            [
             0.7,
             "#b8e186"
            ],
            [
             0.8,
             "#7fbc41"
            ],
            [
             0.9,
             "#4d9221"
            ],
            [
             1,
             "#276419"
            ]
           ],
           "sequential": [
            [
             0,
             "#0d0887"
            ],
            [
             0.1111111111111111,
             "#46039f"
            ],
            [
             0.2222222222222222,
             "#7201a8"
            ],
            [
             0.3333333333333333,
             "#9c179e"
            ],
            [
             0.4444444444444444,
             "#bd3786"
            ],
            [
             0.5555555555555556,
             "#d8576b"
            ],
            [
             0.6666666666666666,
             "#ed7953"
            ],
            [
             0.7777777777777778,
             "#fb9f3a"
            ],
            [
             0.8888888888888888,
             "#fdca26"
            ],
            [
             1,
             "#f0f921"
            ]
           ],
           "sequentialminus": [
            [
             0,
             "#0d0887"
            ],
            [
             0.1111111111111111,
             "#46039f"
            ],
            [
             0.2222222222222222,
             "#7201a8"
            ],
            [
             0.3333333333333333,
             "#9c179e"
            ],
            [
             0.4444444444444444,
             "#bd3786"
            ],
            [
             0.5555555555555556,
             "#d8576b"
            ],
            [
             0.6666666666666666,
             "#ed7953"
            ],
            [
             0.7777777777777778,
             "#fb9f3a"
            ],
            [
             0.8888888888888888,
             "#fdca26"
            ],
            [
             1,
             "#f0f921"
            ]
           ]
          },
          "colorway": [
           "#636efa",
           "#EF553B",
           "#00cc96",
           "#ab63fa",
           "#FFA15A",
           "#19d3f3",
           "#FF6692",
           "#B6E880",
           "#FF97FF",
           "#FECB52"
          ],
          "font": {
           "color": "#2a3f5f"
          },
          "geo": {
           "bgcolor": "white",
           "lakecolor": "white",
           "landcolor": "#E5ECF6",
           "showlakes": true,
           "showland": true,
           "subunitcolor": "white"
          },
          "hoverlabel": {
           "align": "left"
          },
          "hovermode": "closest",
          "mapbox": {
           "style": "light"
          },
          "paper_bgcolor": "white",
          "plot_bgcolor": "#E5ECF6",
          "polar": {
           "angularaxis": {
            "gridcolor": "white",
            "linecolor": "white",
            "ticks": ""
           },
           "bgcolor": "#E5ECF6",
           "radialaxis": {
            "gridcolor": "white",
            "linecolor": "white",
            "ticks": ""
           }
          },
          "scene": {
           "xaxis": {
            "backgroundcolor": "#E5ECF6",
            "gridcolor": "white",
            "gridwidth": 2,
            "linecolor": "white",
            "showbackground": true,
            "ticks": "",
            "zerolinecolor": "white"
           },
           "yaxis": {
            "backgroundcolor": "#E5ECF6",
            "gridcolor": "white",
            "gridwidth": 2,
            "linecolor": "white",
            "showbackground": true,
            "ticks": "",
            "zerolinecolor": "white"
           },
           "zaxis": {
            "backgroundcolor": "#E5ECF6",
            "gridcolor": "white",
            "gridwidth": 2,
            "linecolor": "white",
            "showbackground": true,
            "ticks": "",
            "zerolinecolor": "white"
           }
          },
          "shapedefaults": {
           "line": {
            "color": "#2a3f5f"
           }
          },
          "ternary": {
           "aaxis": {
            "gridcolor": "white",
            "linecolor": "white",
            "ticks": ""
           },
           "baxis": {
            "gridcolor": "white",
            "linecolor": "white",
            "ticks": ""
           },
           "bgcolor": "#E5ECF6",
           "caxis": {
            "gridcolor": "white",
            "linecolor": "white",
            "ticks": ""
           }
          },
          "title": {
           "x": 0.05
          },
          "xaxis": {
           "automargin": true,
           "gridcolor": "white",
           "linecolor": "white",
           "ticks": "",
           "title": {
            "standoff": 15
           },
           "zerolinecolor": "white",
           "zerolinewidth": 2
          },
          "yaxis": {
           "automargin": true,
           "gridcolor": "white",
           "linecolor": "white",
           "ticks": "",
           "title": {
            "standoff": 15
           },
           "zerolinecolor": "white",
           "zerolinewidth": 2
          }
         }
        },
        "title": {
         "text": "Dribbling vs Body type"
        },
        "xaxis": {
         "title": {
          "text": "body_type"
         }
        },
        "yaxis": {
         "title": {
          "text": "dribbling"
         }
        }
       }
      }
     },
     "metadata": {},
     "output_type": "display_data"
    }
   ],
   "source": [
    "plot_violin_plot(abilities_df_cleaned,x_col='dribbling',y_col='body_type')"
   ]
  },
  {
   "cell_type": "markdown",
   "metadata": {},
   "source": [
    "Defending vs Body Type"
   ]
  },
  {
   "cell_type": "code",
   "execution_count": 159,
   "metadata": {},
   "outputs": [
    {
     "data": {
      "application/vnd.plotly.v1+json": {
       "config": {
        "plotlyServerURL": "https://plot.ly"
       },
       "data": [
        {
         "box": {
          "visible": true
         },
         "meanline": {
          "visible": true
         },
         "name": "Normal (170-185)",
         "type": "violin",
         "x": [
          "Normal (170-185)",
          "Normal (170-185)",
          "Normal (170-185)",
          "Normal (170-185)",
          "Normal (170-185)",
          "Normal (170-185)",
          "Normal (170-185)",
          "Normal (170-185)",
          "Normal (170-185)",
          "Normal (170-185)",
          "Normal (170-185)",
          "Normal (170-185)",
          "Normal (170-185)",
          "Normal (170-185)",
          "Normal (170-185)",
          "Normal (170-185)",
          "Normal (170-185)",
          "Normal (170-185)",
          "Normal (170-185)",
          "Normal (170-185)",
          "Normal (170-185)",
          "Normal (170-185)",
          "Normal (170-185)",
          "Normal (170-185)",
          "Normal (170-185)",
          "Normal (170-185)",
          "Normal (170-185)",
          "Normal (170-185)",
          "Normal (170-185)",
          "Normal (170-185)",
          "Normal (170-185)",
          "Normal (170-185)",
          "Normal (170-185)",
          "Normal (170-185)",
          "Normal (170-185)",
          "Normal (170-185)",
          "Normal (170-185)",
          "Normal (170-185)",
          "Normal (170-185)",
          "Normal (170-185)",
          "Normal (170-185)",
          "Normal (170-185)",
          "Normal (170-185)",
          "Normal (170-185)",
          "Normal (170-185)",
          "Normal (170-185)",
          "Normal (170-185)",
          "Normal (170-185)",
          "Normal (170-185)",
          "Normal (170-185)",
          "Normal (170-185)",
          "Normal (170-185)",
          "Normal (170-185)",
          "Normal (170-185)",
          "Normal (170-185)",
          "Normal (170-185)",
          "Normal (170-185)",
          "Normal (170-185)",
          "Normal (170-185)",
          "Normal (170-185)",
          "Normal (170-185)",
          "Normal (170-185)",
          "Normal (170-185)",
          "Normal (170-185)",
          "Normal (170-185)",
          "Normal (170-185)",
          "Normal (170-185)",
          "Normal (170-185)",
          "Normal (170-185)",
          "Normal (170-185)",
          "Normal (170-185)",
          "Normal (170-185)",
          "Normal (170-185)",
          "Normal (170-185)",
          "Normal (170-185)",
          "Normal (170-185)",
          "Normal (170-185)",
          "Normal (170-185)",
          "Normal (170-185)",
          "Normal (170-185)"
         ],
         "y": [
          89,
          32,
          55,
          88,
          37,
          88,
          48,
          69,
          59,
          0,
          0,
          85,
          84,
          69,
          0,
          0,
          32,
          0,
          83,
          73,
          73,
          78,
          43,
          0,
          53,
          23,
          0,
          24,
          0,
          80,
          0,
          81,
          0,
          23,
          34,
          82,
          81,
          32,
          74,
          81,
          41,
          76,
          74,
          0,
          75,
          79,
          0,
          68,
          77,
          56,
          78,
          78,
          77,
          0,
          28,
          77,
          55,
          27,
          32,
          75,
          19,
          71,
          0,
          71,
          19,
          18,
          57,
          0,
          70,
          70,
          75,
          0,
          0,
          71,
          25,
          70,
          0,
          67,
          64,
          56
         ]
        },
        {
         "box": {
          "visible": true
         },
         "meanline": {
          "visible": true
         },
         "name": "Lean (185+)",
         "type": "violin",
         "x": [
          "Lean (185+)",
          "Lean (185+)"
         ],
         "y": [
          91,
          71
         ]
        },
        {
         "box": {
          "visible": true
         },
         "meanline": {
          "visible": true
         },
         "name": "Normal (170-)",
         "type": "violin",
         "x": [
          "Normal (170-)",
          "Normal (170-)",
          "Normal (170-)",
          "Normal (170-)",
          "Normal (170-)",
          "Normal (170-)",
          "Normal (170-)",
          "Normal (170-)",
          "Normal (170-)",
          "Normal (170-)",
          "Normal (170-)",
          "Normal (170-)",
          "Normal (170-)",
          "Normal (170-)",
          "Normal (170-)",
          "Normal (170-)",
          "Normal (170-)",
          "Normal (170-)",
          "Normal (170-)",
          "Normal (170-)",
          "Normal (170-)",
          "Normal (170-)",
          "Normal (170-)",
          "Normal (170-)",
          "Normal (170-)",
          "Normal (170-)",
          "Normal (170-)",
          "Normal (170-)",
          "Normal (170-)",
          "Normal (170-)",
          "Normal (170-)",
          "Normal (170-)",
          "Normal (170-)",
          "Normal (170-)",
          "Normal (170-)",
          "Normal (170-)",
          "Normal (170-)",
          "Normal (170-)",
          "Normal (170-)",
          "Normal (170-)",
          "Normal (170-)",
          "Normal (170-)",
          "Normal (170-)",
          "Normal (170-)",
          "Normal (170-)",
          "Normal (170-)",
          "Normal (170-)",
          "Normal (170-)",
          "Normal (170-)",
          "Normal (170-)",
          "Normal (170-)",
          "Normal (170-)",
          "Normal (170-)",
          "Normal (170-)",
          "Normal (170-)",
          "Normal (170-)",
          "Normal (170-)",
          "Normal (170-)",
          "Normal (170-)",
          "Normal (170-)",
          "Normal (170-)",
          "Normal (170-)",
          "Normal (170-)",
          "Normal (170-)",
          "Normal (170-)",
          "Normal (170-)",
          "Normal (170-)",
          "Normal (170-)",
          "Normal (170-)",
          "Normal (170-)",
          "Normal (170-)",
          "Normal (170-)",
          "Normal (170-)",
          "Normal (170-)",
          "Normal (170-)",
          "Normal (170-)",
          "Normal (170-)",
          "Normal (170-)",
          "Normal (170-)",
          "Normal (170-)",
          "Normal (170-)",
          "Normal (170-)",
          "Normal (170-)",
          "Normal (170-)",
          "Normal (170-)",
          "Normal (170-)",
          "Normal (170-)",
          "Normal (170-)",
          "Normal (170-)",
          "Normal (170-)",
          "Normal (170-)",
          "Normal (170-)",
          "Normal (170-)",
          "Normal (170-)",
          "Normal (170-)",
          "Normal (170-)",
          "Normal (170-)",
          "Normal (170-)",
          "Normal (170-)",
          "Normal (170-)",
          "Normal (170-)",
          "Normal (170-)",
          "Normal (170-)",
          "Normal (170-)",
          "Normal (170-)",
          "Normal (170-)",
          "Normal (170-)",
          "Normal (170-)",
          "Normal (170-)",
          "Normal (170-)",
          "Normal (170-)",
          "Normal (170-)",
          "Normal (170-)",
          "Normal (170-)",
          "Normal (170-)",
          "Normal (170-)",
          "Normal (170-)",
          "Normal (170-)",
          "Normal (170-)",
          "Normal (170-)",
          "Normal (170-)",
          "Normal (170-)",
          "Normal (170-)",
          "Normal (170-)",
          "Normal (170-)",
          "Normal (170-)",
          "Normal (170-)",
          "Normal (170-)",
          "Normal (170-)",
          "Normal (170-)",
          "Normal (170-)",
          "Normal (170-)",
          "Normal (170-)",
          "Normal (170-)",
          "Normal (170-)",
          "Normal (170-)",
          "Normal (170-)",
          "Normal (170-)",
          "Normal (170-)",
          "Normal (170-)",
          "Normal (170-)",
          "Normal (170-)",
          "Normal (170-)",
          "Normal (170-)",
          "Normal (170-)",
          "Normal (170-)",
          "Normal (170-)",
          "Normal (170-)",
          "Normal (170-)",
          "Normal (170-)",
          "Normal (170-)",
          "Normal (170-)",
          "Normal (170-)",
          "Normal (170-)",
          "Normal (170-)",
          "Normal (170-)",
          "Normal (170-)",
          "Normal (170-)",
          "Normal (170-)",
          "Normal (170-)",
          "Normal (170-)",
          "Normal (170-)",
          "Normal (170-)",
          "Normal (170-)",
          "Normal (170-)",
          "Normal (170-)",
          "Normal (170-)",
          "Normal (170-)",
          "Normal (170-)",
          "Normal (170-)",
          "Normal (170-)",
          "Normal (170-)",
          "Normal (170-)",
          "Normal (170-)",
          "Normal (170-)",
          "Normal (170-)",
          "Normal (170-)"
         ],
         "y": [
          39,
          87,
          41,
          50,
          43,
          83,
          46,
          68,
          57,
          84,
          27,
          64,
          69,
          85,
          50,
          58,
          28,
          27,
          79,
          81,
          68,
          77,
          81,
          44,
          78,
          84,
          47,
          77,
          84,
          66,
          0,
          83,
          77,
          29,
          78,
          43,
          57,
          80,
          79,
          78,
          78,
          63,
          78,
          27,
          53,
          33,
          77,
          37,
          78,
          39,
          73,
          38,
          65,
          73,
          72,
          74,
          77,
          72,
          35,
          33,
          23,
          79,
          61,
          47,
          69,
          48,
          61,
          64,
          46,
          78,
          48,
          63,
          77,
          75,
          35,
          24,
          23,
          18,
          0,
          45,
          78,
          75,
          33,
          70,
          76,
          41,
          77,
          26,
          60,
          37,
          21,
          30,
          76,
          33,
          73,
          21,
          45,
          74,
          48,
          54,
          66,
          75,
          73,
          74,
          46,
          70,
          42,
          70,
          0,
          50,
          74,
          52,
          78,
          70,
          72,
          17,
          26,
          75,
          32,
          70,
          42,
          29,
          0,
          71,
          69,
          55,
          69,
          70,
          74,
          70,
          49,
          73,
          38,
          71,
          70,
          32,
          71,
          69,
          64,
          65,
          18,
          59,
          70,
          38,
          76,
          31,
          40,
          70,
          70,
          19,
          0,
          32,
          68,
          73,
          69,
          71,
          25,
          17,
          0,
          70,
          67,
          70,
          70,
          63,
          60,
          68,
          71,
          60,
          19,
          29,
          45,
          0,
          67,
          0,
          72,
          31,
          35
         ]
        },
        {
         "box": {
          "visible": true
         },
         "meanline": {
          "visible": true
         },
         "name": "Unique",
         "type": "violin",
         "x": [
          "Unique"
         ],
         "y": [
          43
         ]
        },
        {
         "box": {
          "visible": true
         },
         "meanline": {
          "visible": true
         },
         "name": "Lean (170-)",
         "type": "violin",
         "x": [
          "Lean (170-)",
          "Lean (170-)",
          "Lean (170-)",
          "Lean (170-)",
          "Lean (170-)",
          "Lean (170-)",
          "Lean (170-)",
          "Lean (170-)",
          "Lean (170-)",
          "Lean (170-)",
          "Lean (170-)",
          "Lean (170-)",
          "Lean (170-)",
          "Lean (170-)",
          "Lean (170-)",
          "Lean (170-)",
          "Lean (170-)",
          "Lean (170-)",
          "Lean (170-)",
          "Lean (170-)",
          "Lean (170-)",
          "Lean (170-)",
          "Lean (170-)",
          "Lean (170-)",
          "Lean (170-)",
          "Lean (170-)",
          "Lean (170-)",
          "Lean (170-)",
          "Lean (170-)",
          "Lean (170-)",
          "Lean (170-)",
          "Lean (170-)",
          "Lean (170-)",
          "Lean (170-)",
          "Lean (170-)",
          "Lean (170-)",
          "Lean (170-)",
          "Lean (170-)",
          "Lean (170-)",
          "Lean (170-)",
          "Lean (170-)",
          "Lean (170-)",
          "Lean (170-)",
          "Lean (170-)"
         ],
         "y": [
          49,
          36,
          85,
          45,
          83,
          46,
          56,
          57,
          82,
          33,
          26,
          82,
          77,
          75,
          66,
          61,
          71,
          73,
          29,
          48,
          45,
          43,
          64,
          0,
          23,
          19,
          75,
          40,
          22,
          69,
          20,
          34,
          74,
          57,
          24,
          25,
          39,
          39,
          22,
          66,
          63,
          43,
          62,
          55
         ]
        },
        {
         "box": {
          "visible": true
         },
         "meanline": {
          "visible": true
         },
         "name": "Lean (170-185)",
         "type": "violin",
         "x": [
          "Lean (170-185)",
          "Lean (170-185)",
          "Lean (170-185)",
          "Lean (170-185)",
          "Lean (170-185)",
          "Lean (170-185)",
          "Lean (170-185)",
          "Lean (170-185)",
          "Lean (170-185)",
          "Lean (170-185)",
          "Lean (170-185)",
          "Lean (170-185)",
          "Lean (170-185)",
          "Lean (170-185)",
          "Lean (170-185)",
          "Lean (170-185)",
          "Lean (170-185)",
          "Lean (170-185)",
          "Lean (170-185)",
          "Lean (170-185)",
          "Lean (170-185)",
          "Lean (170-185)",
          "Lean (170-185)",
          "Lean (170-185)",
          "Lean (170-185)",
          "Lean (170-185)",
          "Lean (170-185)",
          "Lean (170-185)",
          "Lean (170-185)",
          "Lean (170-185)",
          "Lean (170-185)",
          "Lean (170-185)",
          "Lean (170-185)",
          "Lean (170-185)",
          "Lean (170-185)",
          "Lean (170-185)",
          "Lean (170-185)",
          "Lean (170-185)",
          "Lean (170-185)",
          "Lean (170-185)",
          "Lean (170-185)",
          "Lean (170-185)",
          "Lean (170-185)",
          "Lean (170-185)",
          "Lean (170-185)",
          "Lean (170-185)",
          "Lean (170-185)",
          "Lean (170-185)",
          "Lean (170-185)"
         ],
         "y": [
          45,
          47,
          77,
          80,
          82,
          86,
          35,
          44,
          86,
          20,
          82,
          0,
          32,
          0,
          78,
          22,
          0,
          0,
          70,
          79,
          73,
          78,
          80,
          0,
          0,
          78,
          75,
          75,
          77,
          0,
          52,
          75,
          76,
          0,
          24,
          70,
          24,
          62,
          0,
          23,
          72,
          69,
          0,
          74,
          0,
          52,
          0,
          57,
          29
         ]
        },
        {
         "box": {
          "visible": true
         },
         "meanline": {
          "visible": true
         },
         "name": "Stocky (170-)",
         "type": "violin",
         "x": [
          "Stocky (170-)",
          "Stocky (170-)",
          "Stocky (170-)",
          "Stocky (170-)",
          "Stocky (170-)",
          "Stocky (170-)",
          "Stocky (170-)",
          "Stocky (170-)",
          "Stocky (170-)",
          "Stocky (170-)",
          "Stocky (170-)",
          "Stocky (170-)",
          "Stocky (170-)",
          "Stocky (170-)",
          "Stocky (170-)",
          "Stocky (170-)",
          "Stocky (170-)",
          "Stocky (170-)",
          "Stocky (170-)",
          "Stocky (170-)",
          "Stocky (170-)"
         ],
         "y": [
          41,
          76,
          79,
          83,
          76,
          52,
          77,
          77,
          74,
          58,
          0,
          75,
          25,
          72,
          35,
          23,
          59,
          38,
          59,
          41,
          70
         ]
        },
        {
         "box": {
          "visible": true
         },
         "meanline": {
          "visible": true
         },
         "name": "Stocky (170-185)",
         "type": "violin",
         "x": [
          "Stocky (170-185)",
          "Stocky (170-185)",
          "Stocky (170-185)",
          "Stocky (170-185)",
          "Stocky (170-185)",
          "Stocky (170-185)",
          "Stocky (170-185)",
          "Stocky (170-185)",
          "Stocky (170-185)",
          "Stocky (170-185)",
          "Stocky (170-185)",
          "Stocky (170-185)",
          "Stocky (170-185)",
          "Stocky (170-185)",
          "Stocky (170-185)",
          "Stocky (170-185)",
          "Stocky (170-185)"
         ],
         "y": [
          86,
          84,
          0,
          83,
          75,
          0,
          0,
          79,
          0,
          75,
          26,
          0,
          0,
          0,
          69,
          0,
          16
         ]
        }
       ],
       "layout": {
        "font": {
         "color": "black",
         "family": "Courier New, monospace",
         "size": 12
        },
        "legend": {
         "title": {
          "text": "Body type"
         }
        },
        "template": {
         "data": {
          "bar": [
           {
            "error_x": {
             "color": "#2a3f5f"
            },
            "error_y": {
             "color": "#2a3f5f"
            },
            "marker": {
             "line": {
              "color": "#E5ECF6",
              "width": 0.5
             },
             "pattern": {
              "fillmode": "overlay",
              "size": 10,
              "solidity": 0.2
             }
            },
            "type": "bar"
           }
          ],
          "barpolar": [
           {
            "marker": {
             "line": {
              "color": "#E5ECF6",
              "width": 0.5
             },
             "pattern": {
              "fillmode": "overlay",
              "size": 10,
              "solidity": 0.2
             }
            },
            "type": "barpolar"
           }
          ],
          "carpet": [
           {
            "aaxis": {
             "endlinecolor": "#2a3f5f",
             "gridcolor": "white",
             "linecolor": "white",
             "minorgridcolor": "white",
             "startlinecolor": "#2a3f5f"
            },
            "baxis": {
             "endlinecolor": "#2a3f5f",
             "gridcolor": "white",
             "linecolor": "white",
             "minorgridcolor": "white",
             "startlinecolor": "#2a3f5f"
            },
            "type": "carpet"
           }
          ],
          "choropleth": [
           {
            "colorbar": {
             "outlinewidth": 0,
             "ticks": ""
            },
            "type": "choropleth"
           }
          ],
          "contour": [
           {
            "colorbar": {
             "outlinewidth": 0,
             "ticks": ""
            },
            "colorscale": [
             [
              0,
              "#0d0887"
             ],
             [
              0.1111111111111111,
              "#46039f"
             ],
             [
              0.2222222222222222,
              "#7201a8"
             ],
             [
              0.3333333333333333,
              "#9c179e"
             ],
             [
              0.4444444444444444,
              "#bd3786"
             ],
             [
              0.5555555555555556,
              "#d8576b"
             ],
             [
              0.6666666666666666,
              "#ed7953"
             ],
             [
              0.7777777777777778,
              "#fb9f3a"
             ],
             [
              0.8888888888888888,
              "#fdca26"
             ],
             [
              1,
              "#f0f921"
             ]
            ],
            "type": "contour"
           }
          ],
          "contourcarpet": [
           {
            "colorbar": {
             "outlinewidth": 0,
             "ticks": ""
            },
            "type": "contourcarpet"
           }
          ],
          "heatmap": [
           {
            "colorbar": {
             "outlinewidth": 0,
             "ticks": ""
            },
            "colorscale": [
             [
              0,
              "#0d0887"
             ],
             [
              0.1111111111111111,
              "#46039f"
             ],
             [
              0.2222222222222222,
              "#7201a8"
             ],
             [
              0.3333333333333333,
              "#9c179e"
             ],
             [
              0.4444444444444444,
              "#bd3786"
             ],
             [
              0.5555555555555556,
              "#d8576b"
             ],
             [
              0.6666666666666666,
              "#ed7953"
             ],
             [
              0.7777777777777778,
              "#fb9f3a"
             ],
             [
              0.8888888888888888,
              "#fdca26"
             ],
             [
              1,
              "#f0f921"
             ]
            ],
            "type": "heatmap"
           }
          ],
          "heatmapgl": [
           {
            "colorbar": {
             "outlinewidth": 0,
             "ticks": ""
            },
            "colorscale": [
             [
              0,
              "#0d0887"
             ],
             [
              0.1111111111111111,
              "#46039f"
             ],
             [
              0.2222222222222222,
              "#7201a8"
             ],
             [
              0.3333333333333333,
              "#9c179e"
             ],
             [
              0.4444444444444444,
              "#bd3786"
             ],
             [
              0.5555555555555556,
              "#d8576b"
             ],
             [
              0.6666666666666666,
              "#ed7953"
             ],
             [
              0.7777777777777778,
              "#fb9f3a"
             ],
             [
              0.8888888888888888,
              "#fdca26"
             ],
             [
              1,
              "#f0f921"
             ]
            ],
            "type": "heatmapgl"
           }
          ],
          "histogram": [
           {
            "marker": {
             "pattern": {
              "fillmode": "overlay",
              "size": 10,
              "solidity": 0.2
             }
            },
            "type": "histogram"
           }
          ],
          "histogram2d": [
           {
            "colorbar": {
             "outlinewidth": 0,
             "ticks": ""
            },
            "colorscale": [
             [
              0,
              "#0d0887"
             ],
             [
              0.1111111111111111,
              "#46039f"
             ],
             [
              0.2222222222222222,
              "#7201a8"
             ],
             [
              0.3333333333333333,
              "#9c179e"
             ],
             [
              0.4444444444444444,
              "#bd3786"
             ],
             [
              0.5555555555555556,
              "#d8576b"
             ],
             [
              0.6666666666666666,
              "#ed7953"
             ],
             [
              0.7777777777777778,
              "#fb9f3a"
             ],
             [
              0.8888888888888888,
              "#fdca26"
             ],
             [
              1,
              "#f0f921"
             ]
            ],
            "type": "histogram2d"
           }
          ],
          "histogram2dcontour": [
           {
            "colorbar": {
             "outlinewidth": 0,
             "ticks": ""
            },
            "colorscale": [
             [
              0,
              "#0d0887"
             ],
             [
              0.1111111111111111,
              "#46039f"
             ],
             [
              0.2222222222222222,
              "#7201a8"
             ],
             [
              0.3333333333333333,
              "#9c179e"
             ],
             [
              0.4444444444444444,
              "#bd3786"
             ],
             [
              0.5555555555555556,
              "#d8576b"
             ],
             [
              0.6666666666666666,
              "#ed7953"
             ],
             [
              0.7777777777777778,
              "#fb9f3a"
             ],
             [
              0.8888888888888888,
              "#fdca26"
             ],
             [
              1,
              "#f0f921"
             ]
            ],
            "type": "histogram2dcontour"
           }
          ],
          "mesh3d": [
           {
            "colorbar": {
             "outlinewidth": 0,
             "ticks": ""
            },
            "type": "mesh3d"
           }
          ],
          "parcoords": [
           {
            "line": {
             "colorbar": {
              "outlinewidth": 0,
              "ticks": ""
             }
            },
            "type": "parcoords"
           }
          ],
          "pie": [
           {
            "automargin": true,
            "type": "pie"
           }
          ],
          "scatter": [
           {
            "marker": {
             "colorbar": {
              "outlinewidth": 0,
              "ticks": ""
             }
            },
            "type": "scatter"
           }
          ],
          "scatter3d": [
           {
            "line": {
             "colorbar": {
              "outlinewidth": 0,
              "ticks": ""
             }
            },
            "marker": {
             "colorbar": {
              "outlinewidth": 0,
              "ticks": ""
             }
            },
            "type": "scatter3d"
           }
          ],
          "scattercarpet": [
           {
            "marker": {
             "colorbar": {
              "outlinewidth": 0,
              "ticks": ""
             }
            },
            "type": "scattercarpet"
           }
          ],
          "scattergeo": [
           {
            "marker": {
             "colorbar": {
              "outlinewidth": 0,
              "ticks": ""
             }
            },
            "type": "scattergeo"
           }
          ],
          "scattergl": [
           {
            "marker": {
             "colorbar": {
              "outlinewidth": 0,
              "ticks": ""
             }
            },
            "type": "scattergl"
           }
          ],
          "scattermapbox": [
           {
            "marker": {
             "colorbar": {
              "outlinewidth": 0,
              "ticks": ""
             }
            },
            "type": "scattermapbox"
           }
          ],
          "scatterpolar": [
           {
            "marker": {
             "colorbar": {
              "outlinewidth": 0,
              "ticks": ""
             }
            },
            "type": "scatterpolar"
           }
          ],
          "scatterpolargl": [
           {
            "marker": {
             "colorbar": {
              "outlinewidth": 0,
              "ticks": ""
             }
            },
            "type": "scatterpolargl"
           }
          ],
          "scatterternary": [
           {
            "marker": {
             "colorbar": {
              "outlinewidth": 0,
              "ticks": ""
             }
            },
            "type": "scatterternary"
           }
          ],
          "surface": [
           {
            "colorbar": {
             "outlinewidth": 0,
             "ticks": ""
            },
            "colorscale": [
             [
              0,
              "#0d0887"
             ],
             [
              0.1111111111111111,
              "#46039f"
             ],
             [
              0.2222222222222222,
              "#7201a8"
             ],
             [
              0.3333333333333333,
              "#9c179e"
             ],
             [
              0.4444444444444444,
              "#bd3786"
             ],
             [
              0.5555555555555556,
              "#d8576b"
             ],
             [
              0.6666666666666666,
              "#ed7953"
             ],
             [
              0.7777777777777778,
              "#fb9f3a"
             ],
             [
              0.8888888888888888,
              "#fdca26"
             ],
             [
              1,
              "#f0f921"
             ]
            ],
            "type": "surface"
           }
          ],
          "table": [
           {
            "cells": {
             "fill": {
              "color": "#EBF0F8"
             },
             "line": {
              "color": "white"
             }
            },
            "header": {
             "fill": {
              "color": "#C8D4E3"
             },
             "line": {
              "color": "white"
             }
            },
            "type": "table"
           }
          ]
         },
         "layout": {
          "annotationdefaults": {
           "arrowcolor": "#2a3f5f",
           "arrowhead": 0,
           "arrowwidth": 1
          },
          "autotypenumbers": "strict",
          "coloraxis": {
           "colorbar": {
            "outlinewidth": 0,
            "ticks": ""
           }
          },
          "colorscale": {
           "diverging": [
            [
             0,
             "#8e0152"
            ],
            [
             0.1,
             "#c51b7d"
            ],
            [
             0.2,
             "#de77ae"
            ],
            [
             0.3,
             "#f1b6da"
            ],
            [
             0.4,
             "#fde0ef"
            ],
            [
             0.5,
             "#f7f7f7"
            ],
            [
             0.6,
             "#e6f5d0"
            ],
            [
             0.7,
             "#b8e186"
            ],
            [
             0.8,
             "#7fbc41"
            ],
            [
             0.9,
             "#4d9221"
            ],
            [
             1,
             "#276419"
            ]
           ],
           "sequential": [
            [
             0,
             "#0d0887"
            ],
            [
             0.1111111111111111,
             "#46039f"
            ],
            [
             0.2222222222222222,
             "#7201a8"
            ],
            [
             0.3333333333333333,
             "#9c179e"
            ],
            [
             0.4444444444444444,
             "#bd3786"
            ],
            [
             0.5555555555555556,
             "#d8576b"
            ],
            [
             0.6666666666666666,
             "#ed7953"
            ],
            [
             0.7777777777777778,
             "#fb9f3a"
            ],
            [
             0.8888888888888888,
             "#fdca26"
            ],
            [
             1,
             "#f0f921"
            ]
           ],
           "sequentialminus": [
            [
             0,
             "#0d0887"
            ],
            [
             0.1111111111111111,
             "#46039f"
            ],
            [
             0.2222222222222222,
             "#7201a8"
            ],
            [
             0.3333333333333333,
             "#9c179e"
            ],
            [
             0.4444444444444444,
             "#bd3786"
            ],
            [
             0.5555555555555556,
             "#d8576b"
            ],
            [
             0.6666666666666666,
             "#ed7953"
            ],
            [
             0.7777777777777778,
             "#fb9f3a"
            ],
            [
             0.8888888888888888,
             "#fdca26"
            ],
            [
             1,
             "#f0f921"
            ]
           ]
          },
          "colorway": [
           "#636efa",
           "#EF553B",
           "#00cc96",
           "#ab63fa",
           "#FFA15A",
           "#19d3f3",
           "#FF6692",
           "#B6E880",
           "#FF97FF",
           "#FECB52"
          ],
          "font": {
           "color": "#2a3f5f"
          },
          "geo": {
           "bgcolor": "white",
           "lakecolor": "white",
           "landcolor": "#E5ECF6",
           "showlakes": true,
           "showland": true,
           "subunitcolor": "white"
          },
          "hoverlabel": {
           "align": "left"
          },
          "hovermode": "closest",
          "mapbox": {
           "style": "light"
          },
          "paper_bgcolor": "white",
          "plot_bgcolor": "#E5ECF6",
          "polar": {
           "angularaxis": {
            "gridcolor": "white",
            "linecolor": "white",
            "ticks": ""
           },
           "bgcolor": "#E5ECF6",
           "radialaxis": {
            "gridcolor": "white",
            "linecolor": "white",
            "ticks": ""
           }
          },
          "scene": {
           "xaxis": {
            "backgroundcolor": "#E5ECF6",
            "gridcolor": "white",
            "gridwidth": 2,
            "linecolor": "white",
            "showbackground": true,
            "ticks": "",
            "zerolinecolor": "white"
           },
           "yaxis": {
            "backgroundcolor": "#E5ECF6",
            "gridcolor": "white",
            "gridwidth": 2,
            "linecolor": "white",
            "showbackground": true,
            "ticks": "",
            "zerolinecolor": "white"
           },
           "zaxis": {
            "backgroundcolor": "#E5ECF6",
            "gridcolor": "white",
            "gridwidth": 2,
            "linecolor": "white",
            "showbackground": true,
            "ticks": "",
            "zerolinecolor": "white"
           }
          },
          "shapedefaults": {
           "line": {
            "color": "#2a3f5f"
           }
          },
          "ternary": {
           "aaxis": {
            "gridcolor": "white",
            "linecolor": "white",
            "ticks": ""
           },
           "baxis": {
            "gridcolor": "white",
            "linecolor": "white",
            "ticks": ""
           },
           "bgcolor": "#E5ECF6",
           "caxis": {
            "gridcolor": "white",
            "linecolor": "white",
            "ticks": ""
           }
          },
          "title": {
           "x": 0.05
          },
          "xaxis": {
           "automargin": true,
           "gridcolor": "white",
           "linecolor": "white",
           "ticks": "",
           "title": {
            "standoff": 15
           },
           "zerolinecolor": "white",
           "zerolinewidth": 2
          },
          "yaxis": {
           "automargin": true,
           "gridcolor": "white",
           "linecolor": "white",
           "ticks": "",
           "title": {
            "standoff": 15
           },
           "zerolinecolor": "white",
           "zerolinewidth": 2
          }
         }
        },
        "title": {
         "text": "Defending vs Body type"
        },
        "xaxis": {
         "title": {
          "text": "body_type"
         }
        },
        "yaxis": {
         "title": {
          "text": "defending"
         }
        }
       }
      }
     },
     "metadata": {},
     "output_type": "display_data"
    }
   ],
   "source": [
    "plot_violin_plot(abilities_df_cleaned,x_col='defending',y_col='body_type')"
   ]
  },
  {
   "cell_type": "code",
   "execution_count": 160,
   "metadata": {},
   "outputs": [],
   "source": [
    "def plot_dist(df, col):\n",
    "    \n",
    "    plt.title('Distribution of ' + col)\n",
    "    sns.kdeplot(df[col],color = \"b\")\n",
    "    plt.show()\n"
   ]
  },
  {
   "cell_type": "code",
   "execution_count": 161,
   "metadata": {},
   "outputs": [
    {
     "data": {
      "image/png": "[encoded data removed]",
      "text/plain": [
       "<Figure size 432x288 with 1 Axes>"
      ]
     },
     "metadata": {},
     "output_type": "display_data"
    }
   ],
   "source": [
    "plot_dist(abilities_df_cleaned, col='shooting')"
   ]
  },
  {
   "cell_type": "code",
   "execution_count": 162,
   "metadata": {},
   "outputs": [
    {
     "data": {
      "image/png": "[encoded data removed]",
      "text/plain": [
       "<Figure size 432x288 with 1 Axes>"
      ]
     },
     "metadata": {},
     "output_type": "display_data"
    }
   ],
   "source": [
    "plot_dist(abilities_df_cleaned, col='pace')"
   ]
  },
  {
   "cell_type": "code",
   "execution_count": null,
   "metadata": {},
   "outputs": [],
   "source": []
  }
 ],
 "metadata": {
  "kernelspec": {
   "display_name": "Python 3.9.12 ('base')",
   "language": "python",
   "name": "python3"
  },
  "language_info": {
   "codemirror_mode": {
    "name": "ipython",
    "version": 3
   },
   "file_extension": ".py",
   "mimetype": "text/x-python",
   "name": "python",
   "nbconvert_exporter": "python",
   "pygments_lexer": "ipython3",
   "version": "3.9.12"
  },
  "orig_nbformat": 4,
  "vscode": {
   "interpreter": {
    "hash": "e42634819b8c191a5d07eaf23810ff32516dd8d3875f28ec3e488928fbd3c187"
   }
  }
 },
 "nbformat": 4,
 "nbformat_minor": 2
}
